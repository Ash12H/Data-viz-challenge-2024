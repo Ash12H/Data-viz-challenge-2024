{
 "cells": [
  {
   "cell_type": "code",
   "execution_count": 1,
   "metadata": {},
   "outputs": [],
   "source": [
    "import pandas as pd\n",
    "import plotly.express as px\n",
    "import numpy as np"
   ]
  },
  {
   "cell_type": "code",
   "execution_count": 2,
   "metadata": {},
   "outputs": [],
   "source": [
    "data = pd.read_parquet(\n",
    "    \"../../data/2_clean/education_attainment.parquet\",\n",
    ")"
   ]
  },
  {
   "cell_type": "code",
   "execution_count": 3,
   "metadata": {},
   "outputs": [
    {
     "data": {
      "text/html": [
       "<div>\n",
       "<style scoped>\n",
       "    .dataframe tbody tr th:only-of-type {\n",
       "        vertical-align: middle;\n",
       "    }\n",
       "\n",
       "    .dataframe tbody tr th {\n",
       "        vertical-align: top;\n",
       "    }\n",
       "\n",
       "    .dataframe thead th {\n",
       "        text-align: right;\n",
       "    }\n",
       "</style>\n",
       "<table border=\"1\" class=\"dataframe\">\n",
       "  <thead>\n",
       "    <tr style=\"text-align: right;\">\n",
       "      <th></th>\n",
       "      <th>Pays et territoires insulaires du Pacifique</th>\n",
       "      <th>TIME_PERIOD</th>\n",
       "      <th>Sexe</th>\n",
       "      <th>Niveau d'éducation</th>\n",
       "      <th>Value</th>\n",
       "    </tr>\n",
       "  </thead>\n",
       "  <tbody>\n",
       "    <tr>\n",
       "      <th>4</th>\n",
       "      <td>Kiribati</td>\n",
       "      <td>2020</td>\n",
       "      <td>Femme</td>\n",
       "      <td>Petite enfance</td>\n",
       "      <td>384.0</td>\n",
       "    </tr>\n",
       "    <tr>\n",
       "      <th>12</th>\n",
       "      <td>Kiribati</td>\n",
       "      <td>2020</td>\n",
       "      <td>Femme</td>\n",
       "      <td>Petite enfance</td>\n",
       "      <td>86.0</td>\n",
       "    </tr>\n",
       "    <tr>\n",
       "      <th>20</th>\n",
       "      <td>Kiribati</td>\n",
       "      <td>2020</td>\n",
       "      <td>Femme</td>\n",
       "      <td>Petite enfance</td>\n",
       "      <td>298.0</td>\n",
       "    </tr>\n",
       "    <tr>\n",
       "      <th>28</th>\n",
       "      <td>Kiribati</td>\n",
       "      <td>2020</td>\n",
       "      <td>Femme</td>\n",
       "      <td>Petite enfance</td>\n",
       "      <td>157.0</td>\n",
       "    </tr>\n",
       "    <tr>\n",
       "      <th>35</th>\n",
       "      <td>Kiribati</td>\n",
       "      <td>2020</td>\n",
       "      <td>Femme</td>\n",
       "      <td>Petite enfance</td>\n",
       "      <td>50.0</td>\n",
       "    </tr>\n",
       "    <tr>\n",
       "      <th>...</th>\n",
       "      <td>...</td>\n",
       "      <td>...</td>\n",
       "      <td>...</td>\n",
       "      <td>...</td>\n",
       "      <td>...</td>\n",
       "    </tr>\n",
       "    <tr>\n",
       "      <th>3986</th>\n",
       "      <td>Vanuatu</td>\n",
       "      <td>2020</td>\n",
       "      <td>Homme</td>\n",
       "      <td>Total</td>\n",
       "      <td>2636.0</td>\n",
       "    </tr>\n",
       "    <tr>\n",
       "      <th>3993</th>\n",
       "      <td>Vanuatu</td>\n",
       "      <td>2020</td>\n",
       "      <td>Homme</td>\n",
       "      <td>Total</td>\n",
       "      <td>45079.0</td>\n",
       "    </tr>\n",
       "    <tr>\n",
       "      <th>4000</th>\n",
       "      <td>Vanuatu</td>\n",
       "      <td>2020</td>\n",
       "      <td>Homme</td>\n",
       "      <td>Total</td>\n",
       "      <td>15456.0</td>\n",
       "    </tr>\n",
       "    <tr>\n",
       "      <th>4006</th>\n",
       "      <td>Vanuatu</td>\n",
       "      <td>2020</td>\n",
       "      <td>Homme</td>\n",
       "      <td>Total</td>\n",
       "      <td>663.0</td>\n",
       "    </tr>\n",
       "    <tr>\n",
       "      <th>4013</th>\n",
       "      <td>Vanuatu</td>\n",
       "      <td>2020</td>\n",
       "      <td>Homme</td>\n",
       "      <td>Total</td>\n",
       "      <td>14792.0</td>\n",
       "    </tr>\n",
       "  </tbody>\n",
       "</table>\n",
       "<p>2789 rows × 5 columns</p>\n",
       "</div>"
      ],
      "text/plain": [
       "     Pays et territoires insulaires du Pacifique  TIME_PERIOD   Sexe  \\\n",
       "4                                       Kiribati         2020  Femme   \n",
       "12                                      Kiribati         2020  Femme   \n",
       "20                                      Kiribati         2020  Femme   \n",
       "28                                      Kiribati         2020  Femme   \n",
       "35                                      Kiribati         2020  Femme   \n",
       "...                                          ...          ...    ...   \n",
       "3986                                     Vanuatu         2020  Homme   \n",
       "3993                                     Vanuatu         2020  Homme   \n",
       "4000                                     Vanuatu         2020  Homme   \n",
       "4006                                     Vanuatu         2020  Homme   \n",
       "4013                                     Vanuatu         2020  Homme   \n",
       "\n",
       "     Niveau d'éducation    Value  \n",
       "4        Petite enfance    384.0  \n",
       "12       Petite enfance     86.0  \n",
       "20       Petite enfance    298.0  \n",
       "28       Petite enfance    157.0  \n",
       "35       Petite enfance     50.0  \n",
       "...                 ...      ...  \n",
       "3986              Total   2636.0  \n",
       "3993              Total  45079.0  \n",
       "4000              Total  15456.0  \n",
       "4006              Total    663.0  \n",
       "4013              Total  14792.0  \n",
       "\n",
       "[2789 rows x 5 columns]"
      ]
     },
     "execution_count": 3,
     "metadata": {},
     "output_type": "execute_result"
    }
   ],
   "source": [
    "data_stacked = (\n",
    "    data.set_index(\n",
    "        [\n",
    "            \"Pays et territoires insulaires du Pacifique\",\n",
    "            \"TIME_PERIOD\",\n",
    "            \"Sexe\",\n",
    "        ]\n",
    "    )\n",
    "    .drop(columns=[\"Âge\", \"Urbanisation\", \"Invalidité\"])\n",
    "    .stack()\n",
    "    .reset_index()\n",
    "    .rename(columns={0: \"Value\"})\n",
    ")\n",
    "data_stacked = data_stacked.query(\"Sexe != 'Total'\")\n",
    "\n",
    "level_cat = {\n",
    "    \"L'éducation de la petite enfance\": \"Petite enfance\",\n",
    "    \"Enseignement primaire\": \"Primaire\",\n",
    "    \"Enseignement secondaire inférieur\": \"Secondaire inf.\",\n",
    "    \"L'enseignement secondaire supérieur\": \"Secondaire sup.\",\n",
    "    \"Enseignement post-secondaire non supérieur\": \"Post-sec. non sup.\",\n",
    "    \"Éducation tertiaire\": \"Tertiaire\",\n",
    "    \"Niveau non indiqué\": \"Non indiqué\",\n",
    "    \"Tous les niveaux d'enseignement\": \"Total\",\n",
    "}\n",
    "\n",
    "data_stacked[\"Niveau d'éducation\"] = pd.Categorical(\n",
    "    data_stacked[\"Niveau d'éducation\"].replace(level_cat),\n",
    "    ordered=True,\n",
    "    categories=level_cat.values(),\n",
    ")\n",
    "\n",
    "data_stacked = data_stacked.sort_values(\n",
    "    [\n",
    "        \"Pays et territoires insulaires du Pacifique\",\n",
    "        \"TIME_PERIOD\",\n",
    "        \"Sexe\",\n",
    "        \"Niveau d'éducation\",\n",
    "    ],\n",
    ")\n",
    "data_stacked"
   ]
  },
  {
   "cell_type": "markdown",
   "metadata": {},
   "source": [
    "## KIRIBATI\n"
   ]
  },
  {
   "cell_type": "code",
   "execution_count": 4,
   "metadata": {},
   "outputs": [
    {
     "name": "stderr",
     "output_type": "stream",
     "text": [
      "/var/folders/36/grrgsqjd14j4tf6cf5ty4ykh0000gn/T/ipykernel_4751/1603260062.py:6: FutureWarning: The default of observed=False is deprecated and will be changed to True in a future version of pandas. Pass observed=False to retain current behavior or observed=True to adopt the future default and silence this warning.\n",
      "  .groupby([\"TIME_PERIOD\", \"Sexe\", \"Niveau d'éducation\"])\n"
     ]
    },
    {
     "data": {
      "text/html": [
       "<div>\n",
       "<style scoped>\n",
       "    .dataframe tbody tr th:only-of-type {\n",
       "        vertical-align: middle;\n",
       "    }\n",
       "\n",
       "    .dataframe tbody tr th {\n",
       "        vertical-align: top;\n",
       "    }\n",
       "\n",
       "    .dataframe thead th {\n",
       "        text-align: right;\n",
       "    }\n",
       "</style>\n",
       "<table border=\"1\" class=\"dataframe\">\n",
       "  <thead>\n",
       "    <tr style=\"text-align: right;\">\n",
       "      <th></th>\n",
       "      <th></th>\n",
       "      <th></th>\n",
       "      <th>Value</th>\n",
       "    </tr>\n",
       "    <tr>\n",
       "      <th>TIME_PERIOD</th>\n",
       "      <th>Sexe</th>\n",
       "      <th>Niveau d'éducation</th>\n",
       "      <th></th>\n",
       "    </tr>\n",
       "  </thead>\n",
       "  <tbody>\n",
       "    <tr>\n",
       "      <th rowspan=\"16\" valign=\"top\">2020</th>\n",
       "      <th rowspan=\"8\" valign=\"top\">Femme</th>\n",
       "      <th>Petite enfance</th>\n",
       "      <td>7872.0</td>\n",
       "    </tr>\n",
       "    <tr>\n",
       "      <th>Primaire</th>\n",
       "      <td>26728.0</td>\n",
       "    </tr>\n",
       "    <tr>\n",
       "      <th>Secondaire inf.</th>\n",
       "      <td>83552.0</td>\n",
       "    </tr>\n",
       "    <tr>\n",
       "      <th>Secondaire sup.</th>\n",
       "      <td>93224.0</td>\n",
       "    </tr>\n",
       "    <tr>\n",
       "      <th>Post-sec. non sup.</th>\n",
       "      <td>3963.0</td>\n",
       "    </tr>\n",
       "    <tr>\n",
       "      <th>Tertiaire</th>\n",
       "      <td>7922.0</td>\n",
       "    </tr>\n",
       "    <tr>\n",
       "      <th>Non indiqué</th>\n",
       "      <td>4290.0</td>\n",
       "    </tr>\n",
       "    <tr>\n",
       "      <th>Total</th>\n",
       "      <td>227584.0</td>\n",
       "    </tr>\n",
       "    <tr>\n",
       "      <th rowspan=\"8\" valign=\"top\">Homme</th>\n",
       "      <th>Petite enfance</th>\n",
       "      <td>6560.0</td>\n",
       "    </tr>\n",
       "    <tr>\n",
       "      <th>Primaire</th>\n",
       "      <td>25032.0</td>\n",
       "    </tr>\n",
       "    <tr>\n",
       "      <th>Secondaire inf.</th>\n",
       "      <td>80416.0</td>\n",
       "    </tr>\n",
       "    <tr>\n",
       "      <th>Secondaire sup.</th>\n",
       "      <td>73336.0</td>\n",
       "    </tr>\n",
       "    <tr>\n",
       "      <th>Post-sec. non sup.</th>\n",
       "      <td>3658.0</td>\n",
       "    </tr>\n",
       "    <tr>\n",
       "      <th>Tertiaire</th>\n",
       "      <td>6805.0</td>\n",
       "    </tr>\n",
       "    <tr>\n",
       "      <th>Non indiqué</th>\n",
       "      <td>4017.0</td>\n",
       "    </tr>\n",
       "    <tr>\n",
       "      <th>Total</th>\n",
       "      <td>199856.0</td>\n",
       "    </tr>\n",
       "  </tbody>\n",
       "</table>\n",
       "</div>"
      ],
      "text/plain": [
       "                                         Value\n",
       "TIME_PERIOD Sexe  Niveau d'éducation          \n",
       "2020        Femme Petite enfance        7872.0\n",
       "                  Primaire             26728.0\n",
       "                  Secondaire inf.      83552.0\n",
       "                  Secondaire sup.      93224.0\n",
       "                  Post-sec. non sup.    3963.0\n",
       "                  Tertiaire             7922.0\n",
       "                  Non indiqué           4290.0\n",
       "                  Total               227584.0\n",
       "            Homme Petite enfance        6560.0\n",
       "                  Primaire             25032.0\n",
       "                  Secondaire inf.      80416.0\n",
       "                  Secondaire sup.      73336.0\n",
       "                  Post-sec. non sup.    3658.0\n",
       "                  Tertiaire             6805.0\n",
       "                  Non indiqué           4017.0\n",
       "                  Total               199856.0"
      ]
     },
     "execution_count": 4,
     "metadata": {},
     "output_type": "execute_result"
    }
   ],
   "source": [
    "kiribati = data_stacked[\n",
    "    data_stacked[\"Pays et territoires insulaires du Pacifique\"] == \"Kiribati\"\n",
    "]\n",
    "kiribati = (\n",
    "    kiribati.drop(columns=\"Pays et territoires insulaires du Pacifique\")\n",
    "    .groupby([\"TIME_PERIOD\", \"Sexe\", \"Niveau d'éducation\"])\n",
    "    .sum()\n",
    "    .replace(0, np.nan)\n",
    "    .dropna()\n",
    ")\n",
    "kiribati"
   ]
  },
  {
   "cell_type": "code",
   "execution_count": 5,
   "metadata": {},
   "outputs": [
    {
     "data": {
      "application/vnd.plotly.v1+json": {
       "config": {
        "plotlyServerURL": "https://plot.ly"
       },
       "data": [
        {
         "alignmentgroup": "True",
         "hovertemplate": "Niveau d'éducation=Petite enfance<br>Sexe=Femme<br>TIME_PERIOD=%{x}<br>Total population=%{y}<extra></extra>",
         "legendgroup": "Petite enfance",
         "marker": {
          "color": "#636efa",
          "pattern": {
           "shape": ""
          }
         },
         "name": "Petite enfance",
         "offsetgroup": "Petite enfance",
         "orientation": "v",
         "showlegend": true,
         "textposition": "auto",
         "type": "bar",
         "x": [
          2020
         ],
         "xaxis": "x2",
         "y": [
          7872
         ],
         "yaxis": "y2"
        },
        {
         "alignmentgroup": "True",
         "hovertemplate": "Niveau d'éducation=Petite enfance<br>Sexe=Homme<br>TIME_PERIOD=%{x}<br>Total population=%{y}<extra></extra>",
         "legendgroup": "Petite enfance",
         "marker": {
          "color": "#636efa",
          "pattern": {
           "shape": ""
          }
         },
         "name": "Petite enfance",
         "offsetgroup": "Petite enfance",
         "orientation": "v",
         "showlegend": false,
         "textposition": "auto",
         "type": "bar",
         "x": [
          2020
         ],
         "xaxis": "x",
         "y": [
          6560
         ],
         "yaxis": "y"
        },
        {
         "alignmentgroup": "True",
         "hovertemplate": "Niveau d'éducation=Primaire<br>Sexe=Femme<br>TIME_PERIOD=%{x}<br>Total population=%{y}<extra></extra>",
         "legendgroup": "Primaire",
         "marker": {
          "color": "#EF553B",
          "pattern": {
           "shape": ""
          }
         },
         "name": "Primaire",
         "offsetgroup": "Primaire",
         "orientation": "v",
         "showlegend": true,
         "textposition": "auto",
         "type": "bar",
         "x": [
          2020
         ],
         "xaxis": "x2",
         "y": [
          26728
         ],
         "yaxis": "y2"
        },
        {
         "alignmentgroup": "True",
         "hovertemplate": "Niveau d'éducation=Primaire<br>Sexe=Homme<br>TIME_PERIOD=%{x}<br>Total population=%{y}<extra></extra>",
         "legendgroup": "Primaire",
         "marker": {
          "color": "#EF553B",
          "pattern": {
           "shape": ""
          }
         },
         "name": "Primaire",
         "offsetgroup": "Primaire",
         "orientation": "v",
         "showlegend": false,
         "textposition": "auto",
         "type": "bar",
         "x": [
          2020
         ],
         "xaxis": "x",
         "y": [
          25032
         ],
         "yaxis": "y"
        },
        {
         "alignmentgroup": "True",
         "hovertemplate": "Niveau d'éducation=Secondaire inf.<br>Sexe=Femme<br>TIME_PERIOD=%{x}<br>Total population=%{y}<extra></extra>",
         "legendgroup": "Secondaire inf.",
         "marker": {
          "color": "#00cc96",
          "pattern": {
           "shape": ""
          }
         },
         "name": "Secondaire inf.",
         "offsetgroup": "Secondaire inf.",
         "orientation": "v",
         "showlegend": true,
         "textposition": "auto",
         "type": "bar",
         "x": [
          2020
         ],
         "xaxis": "x2",
         "y": [
          83552
         ],
         "yaxis": "y2"
        },
        {
         "alignmentgroup": "True",
         "hovertemplate": "Niveau d'éducation=Secondaire inf.<br>Sexe=Homme<br>TIME_PERIOD=%{x}<br>Total population=%{y}<extra></extra>",
         "legendgroup": "Secondaire inf.",
         "marker": {
          "color": "#00cc96",
          "pattern": {
           "shape": ""
          }
         },
         "name": "Secondaire inf.",
         "offsetgroup": "Secondaire inf.",
         "orientation": "v",
         "showlegend": false,
         "textposition": "auto",
         "type": "bar",
         "x": [
          2020
         ],
         "xaxis": "x",
         "y": [
          80416
         ],
         "yaxis": "y"
        },
        {
         "alignmentgroup": "True",
         "hovertemplate": "Niveau d'éducation=Secondaire sup.<br>Sexe=Femme<br>TIME_PERIOD=%{x}<br>Total population=%{y}<extra></extra>",
         "legendgroup": "Secondaire sup.",
         "marker": {
          "color": "#ab63fa",
          "pattern": {
           "shape": ""
          }
         },
         "name": "Secondaire sup.",
         "offsetgroup": "Secondaire sup.",
         "orientation": "v",
         "showlegend": true,
         "textposition": "auto",
         "type": "bar",
         "x": [
          2020
         ],
         "xaxis": "x2",
         "y": [
          93224
         ],
         "yaxis": "y2"
        },
        {
         "alignmentgroup": "True",
         "hovertemplate": "Niveau d'éducation=Secondaire sup.<br>Sexe=Homme<br>TIME_PERIOD=%{x}<br>Total population=%{y}<extra></extra>",
         "legendgroup": "Secondaire sup.",
         "marker": {
          "color": "#ab63fa",
          "pattern": {
           "shape": ""
          }
         },
         "name": "Secondaire sup.",
         "offsetgroup": "Secondaire sup.",
         "orientation": "v",
         "showlegend": false,
         "textposition": "auto",
         "type": "bar",
         "x": [
          2020
         ],
         "xaxis": "x",
         "y": [
          73336
         ],
         "yaxis": "y"
        },
        {
         "alignmentgroup": "True",
         "hovertemplate": "Niveau d'éducation=Post-sec. non sup.<br>Sexe=Femme<br>TIME_PERIOD=%{x}<br>Total population=%{y}<extra></extra>",
         "legendgroup": "Post-sec. non sup.",
         "marker": {
          "color": "#FFA15A",
          "pattern": {
           "shape": ""
          }
         },
         "name": "Post-sec. non sup.",
         "offsetgroup": "Post-sec. non sup.",
         "orientation": "v",
         "showlegend": true,
         "textposition": "auto",
         "type": "bar",
         "x": [
          2020
         ],
         "xaxis": "x2",
         "y": [
          3963
         ],
         "yaxis": "y2"
        },
        {
         "alignmentgroup": "True",
         "hovertemplate": "Niveau d'éducation=Post-sec. non sup.<br>Sexe=Homme<br>TIME_PERIOD=%{x}<br>Total population=%{y}<extra></extra>",
         "legendgroup": "Post-sec. non sup.",
         "marker": {
          "color": "#FFA15A",
          "pattern": {
           "shape": ""
          }
         },
         "name": "Post-sec. non sup.",
         "offsetgroup": "Post-sec. non sup.",
         "orientation": "v",
         "showlegend": false,
         "textposition": "auto",
         "type": "bar",
         "x": [
          2020
         ],
         "xaxis": "x",
         "y": [
          3658
         ],
         "yaxis": "y"
        },
        {
         "alignmentgroup": "True",
         "hovertemplate": "Niveau d'éducation=Tertiaire<br>Sexe=Femme<br>TIME_PERIOD=%{x}<br>Total population=%{y}<extra></extra>",
         "legendgroup": "Tertiaire",
         "marker": {
          "color": "#19d3f3",
          "pattern": {
           "shape": ""
          }
         },
         "name": "Tertiaire",
         "offsetgroup": "Tertiaire",
         "orientation": "v",
         "showlegend": true,
         "textposition": "auto",
         "type": "bar",
         "x": [
          2020
         ],
         "xaxis": "x2",
         "y": [
          7922
         ],
         "yaxis": "y2"
        },
        {
         "alignmentgroup": "True",
         "hovertemplate": "Niveau d'éducation=Tertiaire<br>Sexe=Homme<br>TIME_PERIOD=%{x}<br>Total population=%{y}<extra></extra>",
         "legendgroup": "Tertiaire",
         "marker": {
          "color": "#19d3f3",
          "pattern": {
           "shape": ""
          }
         },
         "name": "Tertiaire",
         "offsetgroup": "Tertiaire",
         "orientation": "v",
         "showlegend": false,
         "textposition": "auto",
         "type": "bar",
         "x": [
          2020
         ],
         "xaxis": "x",
         "y": [
          6805
         ],
         "yaxis": "y"
        },
        {
         "alignmentgroup": "True",
         "hovertemplate": "Niveau d'éducation=Non indiqué<br>Sexe=Femme<br>TIME_PERIOD=%{x}<br>Total population=%{y}<extra></extra>",
         "legendgroup": "Non indiqué",
         "marker": {
          "color": "#FF6692",
          "pattern": {
           "shape": ""
          }
         },
         "name": "Non indiqué",
         "offsetgroup": "Non indiqué",
         "orientation": "v",
         "showlegend": true,
         "textposition": "auto",
         "type": "bar",
         "x": [
          2020
         ],
         "xaxis": "x2",
         "y": [
          4290
         ],
         "yaxis": "y2"
        },
        {
         "alignmentgroup": "True",
         "hovertemplate": "Niveau d'éducation=Non indiqué<br>Sexe=Homme<br>TIME_PERIOD=%{x}<br>Total population=%{y}<extra></extra>",
         "legendgroup": "Non indiqué",
         "marker": {
          "color": "#FF6692",
          "pattern": {
           "shape": ""
          }
         },
         "name": "Non indiqué",
         "offsetgroup": "Non indiqué",
         "orientation": "v",
         "showlegend": false,
         "textposition": "auto",
         "type": "bar",
         "x": [
          2020
         ],
         "xaxis": "x",
         "y": [
          4017
         ],
         "yaxis": "y"
        },
        {
         "alignmentgroup": "True",
         "hovertemplate": "Niveau d'éducation=Total<br>Sexe=Femme<br>TIME_PERIOD=%{x}<br>Total population=%{y}<extra></extra>",
         "legendgroup": "Total",
         "marker": {
          "color": "#B6E880",
          "pattern": {
           "shape": ""
          }
         },
         "name": "Total",
         "offsetgroup": "Total",
         "orientation": "v",
         "showlegend": true,
         "textposition": "auto",
         "type": "bar",
         "x": [
          2020
         ],
         "xaxis": "x2",
         "y": [
          227584
         ],
         "yaxis": "y2"
        },
        {
         "alignmentgroup": "True",
         "hovertemplate": "Niveau d'éducation=Total<br>Sexe=Homme<br>TIME_PERIOD=%{x}<br>Total population=%{y}<extra></extra>",
         "legendgroup": "Total",
         "marker": {
          "color": "#B6E880",
          "pattern": {
           "shape": ""
          }
         },
         "name": "Total",
         "offsetgroup": "Total",
         "orientation": "v",
         "showlegend": false,
         "textposition": "auto",
         "type": "bar",
         "x": [
          2020
         ],
         "xaxis": "x",
         "y": [
          199856
         ],
         "yaxis": "y"
        }
       ],
       "layout": {
        "annotations": [
         {
          "font": {},
          "showarrow": false,
          "text": "Sexe=Homme",
          "textangle": 90,
          "x": 0.98,
          "xanchor": "left",
          "xref": "paper",
          "y": 0.2425,
          "yanchor": "middle",
          "yref": "paper"
         },
         {
          "font": {},
          "showarrow": false,
          "text": "Sexe=Femme",
          "textangle": 90,
          "x": 0.98,
          "xanchor": "left",
          "xref": "paper",
          "y": 0.7575000000000001,
          "yanchor": "middle",
          "yref": "paper"
         }
        ],
        "barmode": "group",
        "legend": {
         "title": {
          "text": "Niveau d'éducation"
         },
         "tracegroupgap": 0
        },
        "template": {
         "data": {
          "bar": [
           {
            "error_x": {
             "color": "#2a3f5f"
            },
            "error_y": {
             "color": "#2a3f5f"
            },
            "marker": {
             "line": {
              "color": "#E5ECF6",
              "width": 0.5
             },
             "pattern": {
              "fillmode": "overlay",
              "size": 10,
              "solidity": 0.2
             }
            },
            "type": "bar"
           }
          ],
          "barpolar": [
           {
            "marker": {
             "line": {
              "color": "#E5ECF6",
              "width": 0.5
             },
             "pattern": {
              "fillmode": "overlay",
              "size": 10,
              "solidity": 0.2
             }
            },
            "type": "barpolar"
           }
          ],
          "carpet": [
           {
            "aaxis": {
             "endlinecolor": "#2a3f5f",
             "gridcolor": "white",
             "linecolor": "white",
             "minorgridcolor": "white",
             "startlinecolor": "#2a3f5f"
            },
            "baxis": {
             "endlinecolor": "#2a3f5f",
             "gridcolor": "white",
             "linecolor": "white",
             "minorgridcolor": "white",
             "startlinecolor": "#2a3f5f"
            },
            "type": "carpet"
           }
          ],
          "choropleth": [
           {
            "colorbar": {
             "outlinewidth": 0,
             "ticks": ""
            },
            "type": "choropleth"
           }
          ],
          "contour": [
           {
            "colorbar": {
             "outlinewidth": 0,
             "ticks": ""
            },
            "colorscale": [
             [
              0,
              "#0d0887"
             ],
             [
              0.1111111111111111,
              "#46039f"
             ],
             [
              0.2222222222222222,
              "#7201a8"
             ],
             [
              0.3333333333333333,
              "#9c179e"
             ],
             [
              0.4444444444444444,
              "#bd3786"
             ],
             [
              0.5555555555555556,
              "#d8576b"
             ],
             [
              0.6666666666666666,
              "#ed7953"
             ],
             [
              0.7777777777777778,
              "#fb9f3a"
             ],
             [
              0.8888888888888888,
              "#fdca26"
             ],
             [
              1,
              "#f0f921"
             ]
            ],
            "type": "contour"
           }
          ],
          "contourcarpet": [
           {
            "colorbar": {
             "outlinewidth": 0,
             "ticks": ""
            },
            "type": "contourcarpet"
           }
          ],
          "heatmap": [
           {
            "colorbar": {
             "outlinewidth": 0,
             "ticks": ""
            },
            "colorscale": [
             [
              0,
              "#0d0887"
             ],
             [
              0.1111111111111111,
              "#46039f"
             ],
             [
              0.2222222222222222,
              "#7201a8"
             ],
             [
              0.3333333333333333,
              "#9c179e"
             ],
             [
              0.4444444444444444,
              "#bd3786"
             ],
             [
              0.5555555555555556,
              "#d8576b"
             ],
             [
              0.6666666666666666,
              "#ed7953"
             ],
             [
              0.7777777777777778,
              "#fb9f3a"
             ],
             [
              0.8888888888888888,
              "#fdca26"
             ],
             [
              1,
              "#f0f921"
             ]
            ],
            "type": "heatmap"
           }
          ],
          "heatmapgl": [
           {
            "colorbar": {
             "outlinewidth": 0,
             "ticks": ""
            },
            "colorscale": [
             [
              0,
              "#0d0887"
             ],
             [
              0.1111111111111111,
              "#46039f"
             ],
             [
              0.2222222222222222,
              "#7201a8"
             ],
             [
              0.3333333333333333,
              "#9c179e"
             ],
             [
              0.4444444444444444,
              "#bd3786"
             ],
             [
              0.5555555555555556,
              "#d8576b"
             ],
             [
              0.6666666666666666,
              "#ed7953"
             ],
             [
              0.7777777777777778,
              "#fb9f3a"
             ],
             [
              0.8888888888888888,
              "#fdca26"
             ],
             [
              1,
              "#f0f921"
             ]
            ],
            "type": "heatmapgl"
           }
          ],
          "histogram": [
           {
            "marker": {
             "pattern": {
              "fillmode": "overlay",
              "size": 10,
              "solidity": 0.2
             }
            },
            "type": "histogram"
           }
          ],
          "histogram2d": [
           {
            "colorbar": {
             "outlinewidth": 0,
             "ticks": ""
            },
            "colorscale": [
             [
              0,
              "#0d0887"
             ],
             [
              0.1111111111111111,
              "#46039f"
             ],
             [
              0.2222222222222222,
              "#7201a8"
             ],
             [
              0.3333333333333333,
              "#9c179e"
             ],
             [
              0.4444444444444444,
              "#bd3786"
             ],
             [
              0.5555555555555556,
              "#d8576b"
             ],
             [
              0.6666666666666666,
              "#ed7953"
             ],
             [
              0.7777777777777778,
              "#fb9f3a"
             ],
             [
              0.8888888888888888,
              "#fdca26"
             ],
             [
              1,
              "#f0f921"
             ]
            ],
            "type": "histogram2d"
           }
          ],
          "histogram2dcontour": [
           {
            "colorbar": {
             "outlinewidth": 0,
             "ticks": ""
            },
            "colorscale": [
             [
              0,
              "#0d0887"
             ],
             [
              0.1111111111111111,
              "#46039f"
             ],
             [
              0.2222222222222222,
              "#7201a8"
             ],
             [
              0.3333333333333333,
              "#9c179e"
             ],
             [
              0.4444444444444444,
              "#bd3786"
             ],
             [
              0.5555555555555556,
              "#d8576b"
             ],
             [
              0.6666666666666666,
              "#ed7953"
             ],
             [
              0.7777777777777778,
              "#fb9f3a"
             ],
             [
              0.8888888888888888,
              "#fdca26"
             ],
             [
              1,
              "#f0f921"
             ]
            ],
            "type": "histogram2dcontour"
           }
          ],
          "mesh3d": [
           {
            "colorbar": {
             "outlinewidth": 0,
             "ticks": ""
            },
            "type": "mesh3d"
           }
          ],
          "parcoords": [
           {
            "line": {
             "colorbar": {
              "outlinewidth": 0,
              "ticks": ""
             }
            },
            "type": "parcoords"
           }
          ],
          "pie": [
           {
            "automargin": true,
            "type": "pie"
           }
          ],
          "scatter": [
           {
            "fillpattern": {
             "fillmode": "overlay",
             "size": 10,
             "solidity": 0.2
            },
            "type": "scatter"
           }
          ],
          "scatter3d": [
           {
            "line": {
             "colorbar": {
              "outlinewidth": 0,
              "ticks": ""
             }
            },
            "marker": {
             "colorbar": {
              "outlinewidth": 0,
              "ticks": ""
             }
            },
            "type": "scatter3d"
           }
          ],
          "scattercarpet": [
           {
            "marker": {
             "colorbar": {
              "outlinewidth": 0,
              "ticks": ""
             }
            },
            "type": "scattercarpet"
           }
          ],
          "scattergeo": [
           {
            "marker": {
             "colorbar": {
              "outlinewidth": 0,
              "ticks": ""
             }
            },
            "type": "scattergeo"
           }
          ],
          "scattergl": [
           {
            "marker": {
             "colorbar": {
              "outlinewidth": 0,
              "ticks": ""
             }
            },
            "type": "scattergl"
           }
          ],
          "scattermapbox": [
           {
            "marker": {
             "colorbar": {
              "outlinewidth": 0,
              "ticks": ""
             }
            },
            "type": "scattermapbox"
           }
          ],
          "scatterpolar": [
           {
            "marker": {
             "colorbar": {
              "outlinewidth": 0,
              "ticks": ""
             }
            },
            "type": "scatterpolar"
           }
          ],
          "scatterpolargl": [
           {
            "marker": {
             "colorbar": {
              "outlinewidth": 0,
              "ticks": ""
             }
            },
            "type": "scatterpolargl"
           }
          ],
          "scatterternary": [
           {
            "marker": {
             "colorbar": {
              "outlinewidth": 0,
              "ticks": ""
             }
            },
            "type": "scatterternary"
           }
          ],
          "surface": [
           {
            "colorbar": {
             "outlinewidth": 0,
             "ticks": ""
            },
            "colorscale": [
             [
              0,
              "#0d0887"
             ],
             [
              0.1111111111111111,
              "#46039f"
             ],
             [
              0.2222222222222222,
              "#7201a8"
             ],
             [
              0.3333333333333333,
              "#9c179e"
             ],
             [
              0.4444444444444444,
              "#bd3786"
             ],
             [
              0.5555555555555556,
              "#d8576b"
             ],
             [
              0.6666666666666666,
              "#ed7953"
             ],
             [
              0.7777777777777778,
              "#fb9f3a"
             ],
             [
              0.8888888888888888,
              "#fdca26"
             ],
             [
              1,
              "#f0f921"
             ]
            ],
            "type": "surface"
           }
          ],
          "table": [
           {
            "cells": {
             "fill": {
              "color": "#EBF0F8"
             },
             "line": {
              "color": "white"
             }
            },
            "header": {
             "fill": {
              "color": "#C8D4E3"
             },
             "line": {
              "color": "white"
             }
            },
            "type": "table"
           }
          ]
         },
         "layout": {
          "annotationdefaults": {
           "arrowcolor": "#2a3f5f",
           "arrowhead": 0,
           "arrowwidth": 1
          },
          "autotypenumbers": "strict",
          "coloraxis": {
           "colorbar": {
            "outlinewidth": 0,
            "ticks": ""
           }
          },
          "colorscale": {
           "diverging": [
            [
             0,
             "#8e0152"
            ],
            [
             0.1,
             "#c51b7d"
            ],
            [
             0.2,
             "#de77ae"
            ],
            [
             0.3,
             "#f1b6da"
            ],
            [
             0.4,
             "#fde0ef"
            ],
            [
             0.5,
             "#f7f7f7"
            ],
            [
             0.6,
             "#e6f5d0"
            ],
            [
             0.7,
             "#b8e186"
            ],
            [
             0.8,
             "#7fbc41"
            ],
            [
             0.9,
             "#4d9221"
            ],
            [
             1,
             "#276419"
            ]
           ],
           "sequential": [
            [
             0,
             "#0d0887"
            ],
            [
             0.1111111111111111,
             "#46039f"
            ],
            [
             0.2222222222222222,
             "#7201a8"
            ],
            [
             0.3333333333333333,
             "#9c179e"
            ],
            [
             0.4444444444444444,
             "#bd3786"
            ],
            [
             0.5555555555555556,
             "#d8576b"
            ],
            [
             0.6666666666666666,
             "#ed7953"
            ],
            [
             0.7777777777777778,
             "#fb9f3a"
            ],
            [
             0.8888888888888888,
             "#fdca26"
            ],
            [
             1,
             "#f0f921"
            ]
           ],
           "sequentialminus": [
            [
             0,
             "#0d0887"
            ],
            [
             0.1111111111111111,
             "#46039f"
            ],
            [
             0.2222222222222222,
             "#7201a8"
            ],
            [
             0.3333333333333333,
             "#9c179e"
            ],
            [
             0.4444444444444444,
             "#bd3786"
            ],
            [
             0.5555555555555556,
             "#d8576b"
            ],
            [
             0.6666666666666666,
             "#ed7953"
            ],
            [
             0.7777777777777778,
             "#fb9f3a"
            ],
            [
             0.8888888888888888,
             "#fdca26"
            ],
            [
             1,
             "#f0f921"
            ]
           ]
          },
          "colorway": [
           "#636efa",
           "#EF553B",
           "#00cc96",
           "#ab63fa",
           "#FFA15A",
           "#19d3f3",
           "#FF6692",
           "#B6E880",
           "#FF97FF",
           "#FECB52"
          ],
          "font": {
           "color": "#2a3f5f"
          },
          "geo": {
           "bgcolor": "white",
           "lakecolor": "white",
           "landcolor": "#E5ECF6",
           "showlakes": true,
           "showland": true,
           "subunitcolor": "white"
          },
          "hoverlabel": {
           "align": "left"
          },
          "hovermode": "closest",
          "mapbox": {
           "style": "light"
          },
          "paper_bgcolor": "white",
          "plot_bgcolor": "#E5ECF6",
          "polar": {
           "angularaxis": {
            "gridcolor": "white",
            "linecolor": "white",
            "ticks": ""
           },
           "bgcolor": "#E5ECF6",
           "radialaxis": {
            "gridcolor": "white",
            "linecolor": "white",
            "ticks": ""
           }
          },
          "scene": {
           "xaxis": {
            "backgroundcolor": "#E5ECF6",
            "gridcolor": "white",
            "gridwidth": 2,
            "linecolor": "white",
            "showbackground": true,
            "ticks": "",
            "zerolinecolor": "white"
           },
           "yaxis": {
            "backgroundcolor": "#E5ECF6",
            "gridcolor": "white",
            "gridwidth": 2,
            "linecolor": "white",
            "showbackground": true,
            "ticks": "",
            "zerolinecolor": "white"
           },
           "zaxis": {
            "backgroundcolor": "#E5ECF6",
            "gridcolor": "white",
            "gridwidth": 2,
            "linecolor": "white",
            "showbackground": true,
            "ticks": "",
            "zerolinecolor": "white"
           }
          },
          "shapedefaults": {
           "line": {
            "color": "#2a3f5f"
           }
          },
          "ternary": {
           "aaxis": {
            "gridcolor": "white",
            "linecolor": "white",
            "ticks": ""
           },
           "baxis": {
            "gridcolor": "white",
            "linecolor": "white",
            "ticks": ""
           },
           "bgcolor": "#E5ECF6",
           "caxis": {
            "gridcolor": "white",
            "linecolor": "white",
            "ticks": ""
           }
          },
          "title": {
           "x": 0.05
          },
          "xaxis": {
           "automargin": true,
           "gridcolor": "white",
           "linecolor": "white",
           "ticks": "",
           "title": {
            "standoff": 15
           },
           "zerolinecolor": "white",
           "zerolinewidth": 2
          },
          "yaxis": {
           "automargin": true,
           "gridcolor": "white",
           "linecolor": "white",
           "ticks": "",
           "title": {
            "standoff": 15
           },
           "zerolinecolor": "white",
           "zerolinewidth": 2
          }
         }
        },
        "title": {
         "text": "Education attainment in Kiribati"
        },
        "xaxis": {
         "anchor": "y",
         "domain": [
          0,
          0.98
         ],
         "title": {
          "text": "TIME_PERIOD"
         }
        },
        "xaxis2": {
         "anchor": "y2",
         "domain": [
          0,
          0.98
         ],
         "matches": "x",
         "showticklabels": false
        },
        "yaxis": {
         "anchor": "x",
         "domain": [
          0,
          0.485
         ],
         "range": [
          0,
          227584
         ],
         "title": {
          "text": "Total population"
         }
        },
        "yaxis2": {
         "anchor": "x2",
         "domain": [
          0.515,
          1
         ],
         "matches": "y",
         "range": [
          0,
          227584
         ],
         "title": {
          "text": "Total population"
         }
        }
       }
      }
     },
     "metadata": {},
     "output_type": "display_data"
    }
   ],
   "source": [
    "fig = px.bar(\n",
    "    kiribati.reset_index(),\n",
    "    x=\"TIME_PERIOD\",\n",
    "    y=\"Value\",\n",
    "    color=\"Niveau d'éducation\",\n",
    "    facet_row=\"Sexe\",\n",
    "    barmode=\"group\",\n",
    "    title=\"Education attainment in Kiribati\",\n",
    "    labels={\"Value\": \"Total population\"},\n",
    "    range_y=[0, kiribati.max().iloc[0]],\n",
    ")\n",
    "fig.show()"
   ]
  },
  {
   "cell_type": "code",
   "execution_count": 6,
   "metadata": {},
   "outputs": [
    {
     "name": "stderr",
     "output_type": "stream",
     "text": [
      "/var/folders/36/grrgsqjd14j4tf6cf5ty4ykh0000gn/T/ipykernel_4751/1603260062.py:6: FutureWarning:\n",
      "\n",
      "The default of observed=False is deprecated and will be changed to True in a future version of pandas. Pass observed=False to retain current behavior or observed=True to adopt the future default and silence this warning.\n",
      "\n"
     ]
    },
    {
     "data": {
      "text/html": [
       "<div>\n",
       "<style scoped>\n",
       "    .dataframe tbody tr th:only-of-type {\n",
       "        vertical-align: middle;\n",
       "    }\n",
       "\n",
       "    .dataframe tbody tr th {\n",
       "        vertical-align: top;\n",
       "    }\n",
       "\n",
       "    .dataframe thead th {\n",
       "        text-align: right;\n",
       "    }\n",
       "</style>\n",
       "<table border=\"1\" class=\"dataframe\">\n",
       "  <thead>\n",
       "    <tr style=\"text-align: right;\">\n",
       "      <th></th>\n",
       "      <th></th>\n",
       "      <th></th>\n",
       "      <th>Value</th>\n",
       "    </tr>\n",
       "    <tr>\n",
       "      <th>TIME_PERIOD</th>\n",
       "      <th>Sexe</th>\n",
       "      <th>Niveau d'éducation</th>\n",
       "      <th></th>\n",
       "    </tr>\n",
       "  </thead>\n",
       "  <tbody>\n",
       "    <tr>\n",
       "      <th rowspan=\"16\" valign=\"top\">2020</th>\n",
       "      <th rowspan=\"8\" valign=\"top\">Femme</th>\n",
       "      <th>Petite enfance</th>\n",
       "      <td>7872.0</td>\n",
       "    </tr>\n",
       "    <tr>\n",
       "      <th>Primaire</th>\n",
       "      <td>26728.0</td>\n",
       "    </tr>\n",
       "    <tr>\n",
       "      <th>Secondaire inf.</th>\n",
       "      <td>83552.0</td>\n",
       "    </tr>\n",
       "    <tr>\n",
       "      <th>Secondaire sup.</th>\n",
       "      <td>93224.0</td>\n",
       "    </tr>\n",
       "    <tr>\n",
       "      <th>Post-sec. non sup.</th>\n",
       "      <td>3963.0</td>\n",
       "    </tr>\n",
       "    <tr>\n",
       "      <th>Tertiaire</th>\n",
       "      <td>7922.0</td>\n",
       "    </tr>\n",
       "    <tr>\n",
       "      <th>Non indiqué</th>\n",
       "      <td>4290.0</td>\n",
       "    </tr>\n",
       "    <tr>\n",
       "      <th>Total</th>\n",
       "      <td>227584.0</td>\n",
       "    </tr>\n",
       "    <tr>\n",
       "      <th rowspan=\"8\" valign=\"top\">Homme</th>\n",
       "      <th>Petite enfance</th>\n",
       "      <td>6560.0</td>\n",
       "    </tr>\n",
       "    <tr>\n",
       "      <th>Primaire</th>\n",
       "      <td>25032.0</td>\n",
       "    </tr>\n",
       "    <tr>\n",
       "      <th>Secondaire inf.</th>\n",
       "      <td>80416.0</td>\n",
       "    </tr>\n",
       "    <tr>\n",
       "      <th>Secondaire sup.</th>\n",
       "      <td>73336.0</td>\n",
       "    </tr>\n",
       "    <tr>\n",
       "      <th>Post-sec. non sup.</th>\n",
       "      <td>3658.0</td>\n",
       "    </tr>\n",
       "    <tr>\n",
       "      <th>Tertiaire</th>\n",
       "      <td>6805.0</td>\n",
       "    </tr>\n",
       "    <tr>\n",
       "      <th>Non indiqué</th>\n",
       "      <td>4017.0</td>\n",
       "    </tr>\n",
       "    <tr>\n",
       "      <th>Total</th>\n",
       "      <td>199856.0</td>\n",
       "    </tr>\n",
       "  </tbody>\n",
       "</table>\n",
       "</div>"
      ],
      "text/plain": [
       "                                         Value\n",
       "TIME_PERIOD Sexe  Niveau d'éducation          \n",
       "2020        Femme Petite enfance        7872.0\n",
       "                  Primaire             26728.0\n",
       "                  Secondaire inf.      83552.0\n",
       "                  Secondaire sup.      93224.0\n",
       "                  Post-sec. non sup.    3963.0\n",
       "                  Tertiaire             7922.0\n",
       "                  Non indiqué           4290.0\n",
       "                  Total               227584.0\n",
       "            Homme Petite enfance        6560.0\n",
       "                  Primaire             25032.0\n",
       "                  Secondaire inf.      80416.0\n",
       "                  Secondaire sup.      73336.0\n",
       "                  Post-sec. non sup.    3658.0\n",
       "                  Tertiaire             6805.0\n",
       "                  Non indiqué           4017.0\n",
       "                  Total               199856.0"
      ]
     },
     "execution_count": 6,
     "metadata": {},
     "output_type": "execute_result"
    }
   ],
   "source": [
    "kiribati = data_stacked[\n",
    "    data_stacked[\"Pays et territoires insulaires du Pacifique\"] == \"Kiribati\"\n",
    "]\n",
    "kiribati = (\n",
    "    kiribati.drop(columns=\"Pays et territoires insulaires du Pacifique\")\n",
    "    .groupby([\"TIME_PERIOD\", \"Sexe\", \"Niveau d'éducation\"])\n",
    "    .sum()\n",
    "    .replace(0, np.nan)\n",
    "    .dropna()\n",
    ")\n",
    "kiribati"
   ]
  },
  {
   "cell_type": "markdown",
   "metadata": {},
   "source": [
    "## ALL\n"
   ]
  },
  {
   "cell_type": "markdown",
   "metadata": {},
   "source": [
    "Each country only have 1 year. So the year column can be skipped.\n"
   ]
  },
  {
   "cell_type": "code",
   "execution_count": 7,
   "metadata": {},
   "outputs": [
    {
     "name": "stderr",
     "output_type": "stream",
     "text": [
      "/var/folders/36/grrgsqjd14j4tf6cf5ty4ykh0000gn/T/ipykernel_4751/1665159970.py:2: FutureWarning:\n",
      "\n",
      "The default of observed=False is deprecated and will be changed to True in a future version of pandas. Pass observed=False to retain current behavior or observed=True to adopt the future default and silence this warning.\n",
      "\n"
     ]
    }
   ],
   "source": [
    "all_data = (\n",
    "    data_stacked.groupby(\n",
    "        [\"Pays et territoires insulaires du Pacifique\", \"Sexe\", \"Niveau d'éducation\"]\n",
    "    )[\"Value\"]\n",
    "    .mean()\n",
    "    .replace(0, np.nan)\n",
    "    .dropna()\n",
    "    .reset_index()\n",
    ")"
   ]
  },
  {
   "cell_type": "code",
   "execution_count": 8,
   "metadata": {},
   "outputs": [
    {
     "data": {
      "application/vnd.plotly.v1+json": {
       "config": {
        "plotlyServerURL": "https://plot.ly"
       },
       "data": [
        {
         "alignmentgroup": "True",
         "hovertemplate": "Niveau d'éducation=Petite enfance<br>Pays et territoires insulaires du Pacifique=Kiribati<br>Sexe=%{x}<br>Total population=%{y}<extra></extra>",
         "legendgroup": "Petite enfance",
         "marker": {
          "color": "#636efa",
          "pattern": {
           "shape": ""
          }
         },
         "name": "Petite enfance",
         "offsetgroup": "Petite enfance",
         "orientation": "v",
         "showlegend": true,
         "textposition": "auto",
         "type": "bar",
         "x": [
          "Femme",
          "Homme"
         ],
         "xaxis": "x7",
         "y": [
          218.66666666666666,
          182.22222222222223
         ],
         "yaxis": "y7"
        },
        {
         "alignmentgroup": "True",
         "hovertemplate": "Niveau d'éducation=Petite enfance<br>Pays et territoires insulaires du Pacifique=Marshall Islands<br>Sexe=%{x}<br>Total population=%{y}<extra></extra>",
         "legendgroup": "Petite enfance",
         "marker": {
          "color": "#636efa",
          "pattern": {
           "shape": ""
          }
         },
         "name": "Petite enfance",
         "offsetgroup": "Petite enfance",
         "orientation": "v",
         "showlegend": false,
         "textposition": "auto",
         "type": "bar",
         "x": [
          "Femme",
          "Homme"
         ],
         "xaxis": "x6",
         "y": [
          118.54545454545455,
          160.7
         ],
         "yaxis": "y6"
        },
        {
         "alignmentgroup": "True",
         "hovertemplate": "Niveau d'éducation=Petite enfance<br>Pays et territoires insulaires du Pacifique=Nauru<br>Sexe=%{x}<br>Total population=%{y}<extra></extra>",
         "legendgroup": "Petite enfance",
         "marker": {
          "color": "#636efa",
          "pattern": {
           "shape": ""
          }
         },
         "name": "Petite enfance",
         "offsetgroup": "Petite enfance",
         "orientation": "v",
         "showlegend": false,
         "textposition": "auto",
         "type": "bar",
         "x": [
          "Femme",
          "Homme"
         ],
         "xaxis": "x5",
         "y": [
          92.7,
          125.6
         ],
         "yaxis": "y5"
        },
        {
         "alignmentgroup": "True",
         "hovertemplate": "Niveau d'éducation=Petite enfance<br>Pays et territoires insulaires du Pacifique=Palau<br>Sexe=%{x}<br>Total population=%{y}<extra></extra>",
         "legendgroup": "Petite enfance",
         "marker": {
          "color": "#636efa",
          "pattern": {
           "shape": ""
          }
         },
         "name": "Petite enfance",
         "offsetgroup": "Petite enfance",
         "orientation": "v",
         "showlegend": false,
         "textposition": "auto",
         "type": "bar",
         "x": [
          "Femme",
          "Homme"
         ],
         "xaxis": "x4",
         "y": [
          25.6,
          51.75
         ],
         "yaxis": "y4"
        },
        {
         "alignmentgroup": "True",
         "hovertemplate": "Niveau d'éducation=Petite enfance<br>Pays et territoires insulaires du Pacifique=Tonga<br>Sexe=%{x}<br>Total population=%{y}<extra></extra>",
         "legendgroup": "Petite enfance",
         "marker": {
          "color": "#636efa",
          "pattern": {
           "shape": ""
          }
         },
         "name": "Petite enfance",
         "offsetgroup": "Petite enfance",
         "orientation": "v",
         "showlegend": false,
         "textposition": "auto",
         "type": "bar",
         "x": [
          "Femme",
          "Homme"
         ],
         "xaxis": "x3",
         "y": [
          300.7142857142857,
          272.44444444444446
         ],
         "yaxis": "y3"
        },
        {
         "alignmentgroup": "True",
         "hovertemplate": "Niveau d'éducation=Petite enfance<br>Pays et territoires insulaires du Pacifique=Tuvalu<br>Sexe=%{x}<br>Total population=%{y}<extra></extra>",
         "legendgroup": "Petite enfance",
         "marker": {
          "color": "#636efa",
          "pattern": {
           "shape": ""
          }
         },
         "name": "Petite enfance",
         "offsetgroup": "Petite enfance",
         "orientation": "v",
         "showlegend": false,
         "textposition": "auto",
         "type": "bar",
         "x": [
          "Femme",
          "Homme"
         ],
         "xaxis": "x2",
         "y": [
          57.205882352941174,
          53.878787878787875
         ],
         "yaxis": "y2"
        },
        {
         "alignmentgroup": "True",
         "hovertemplate": "Niveau d'éducation=Petite enfance<br>Pays et territoires insulaires du Pacifique=Vanuatu<br>Sexe=%{x}<br>Total population=%{y}<extra></extra>",
         "legendgroup": "Petite enfance",
         "marker": {
          "color": "#636efa",
          "pattern": {
           "shape": ""
          }
         },
         "name": "Petite enfance",
         "offsetgroup": "Petite enfance",
         "orientation": "v",
         "showlegend": false,
         "textposition": "auto",
         "type": "bar",
         "x": [
          "Femme",
          "Homme"
         ],
         "xaxis": "x",
         "y": [
          2481.972222222222,
          1992.4722222222222
         ],
         "yaxis": "y"
        },
        {
         "alignmentgroup": "True",
         "hovertemplate": "Niveau d'éducation=Primaire<br>Pays et territoires insulaires du Pacifique=Kiribati<br>Sexe=%{x}<br>Total population=%{y}<extra></extra>",
         "legendgroup": "Primaire",
         "marker": {
          "color": "#EF553B",
          "pattern": {
           "shape": ""
          }
         },
         "name": "Primaire",
         "offsetgroup": "Primaire",
         "orientation": "v",
         "showlegend": true,
         "textposition": "auto",
         "type": "bar",
         "x": [
          "Femme",
          "Homme"
         ],
         "xaxis": "x7",
         "y": [
          742.4444444444445,
          695.3333333333334
         ],
         "yaxis": "y7"
        },
        {
         "alignmentgroup": "True",
         "hovertemplate": "Niveau d'éducation=Primaire<br>Pays et territoires insulaires du Pacifique=Marshall Islands<br>Sexe=%{x}<br>Total population=%{y}<extra></extra>",
         "legendgroup": "Primaire",
         "marker": {
          "color": "#EF553B",
          "pattern": {
           "shape": ""
          }
         },
         "name": "Primaire",
         "offsetgroup": "Primaire",
         "orientation": "v",
         "showlegend": false,
         "textposition": "auto",
         "type": "bar",
         "x": [
          "Femme",
          "Homme"
         ],
         "xaxis": "x6",
         "y": [
          100,
          98.27272727272727
         ],
         "yaxis": "y6"
        },
        {
         "alignmentgroup": "True",
         "hovertemplate": "Niveau d'éducation=Primaire<br>Pays et territoires insulaires du Pacifique=Nauru<br>Sexe=%{x}<br>Total population=%{y}<extra></extra>",
         "legendgroup": "Primaire",
         "marker": {
          "color": "#EF553B",
          "pattern": {
           "shape": ""
          }
         },
         "name": "Primaire",
         "offsetgroup": "Primaire",
         "orientation": "v",
         "showlegend": false,
         "textposition": "auto",
         "type": "bar",
         "x": [
          "Femme",
          "Homme"
         ],
         "xaxis": "x5",
         "y": [
          84,
          90.66666666666667
         ],
         "yaxis": "y5"
        },
        {
         "alignmentgroup": "True",
         "hovertemplate": "Niveau d'éducation=Primaire<br>Pays et territoires insulaires du Pacifique=Palau<br>Sexe=%{x}<br>Total population=%{y}<extra></extra>",
         "legendgroup": "Primaire",
         "marker": {
          "color": "#EF553B",
          "pattern": {
           "shape": ""
          }
         },
         "name": "Primaire",
         "offsetgroup": "Primaire",
         "orientation": "v",
         "showlegend": false,
         "textposition": "auto",
         "type": "bar",
         "x": [
          "Femme",
          "Homme"
         ],
         "xaxis": "x4",
         "y": [
          34.148148148148145,
          61.724137931034484
         ],
         "yaxis": "y4"
        },
        {
         "alignmentgroup": "True",
         "hovertemplate": "Niveau d'éducation=Primaire<br>Pays et territoires insulaires du Pacifique=Tonga<br>Sexe=%{x}<br>Total population=%{y}<extra></extra>",
         "legendgroup": "Primaire",
         "marker": {
          "color": "#EF553B",
          "pattern": {
           "shape": ""
          }
         },
         "name": "Primaire",
         "offsetgroup": "Primaire",
         "orientation": "v",
         "showlegend": false,
         "textposition": "auto",
         "type": "bar",
         "x": [
          "Femme",
          "Homme"
         ],
         "xaxis": "x3",
         "y": [
          309.8,
          261.65714285714284
         ],
         "yaxis": "y3"
        },
        {
         "alignmentgroup": "True",
         "hovertemplate": "Niveau d'éducation=Primaire<br>Pays et territoires insulaires du Pacifique=Tuvalu<br>Sexe=%{x}<br>Total population=%{y}<extra></extra>",
         "legendgroup": "Primaire",
         "marker": {
          "color": "#EF553B",
          "pattern": {
           "shape": ""
          }
         },
         "name": "Primaire",
         "offsetgroup": "Primaire",
         "orientation": "v",
         "showlegend": false,
         "textposition": "auto",
         "type": "bar",
         "x": [
          "Femme",
          "Homme"
         ],
         "xaxis": "x2",
         "y": [
          12.428571428571429,
          9
         ],
         "yaxis": "y2"
        },
        {
         "alignmentgroup": "True",
         "hovertemplate": "Niveau d'éducation=Primaire<br>Pays et territoires insulaires du Pacifique=Vanuatu<br>Sexe=%{x}<br>Total population=%{y}<extra></extra>",
         "legendgroup": "Primaire",
         "marker": {
          "color": "#EF553B",
          "pattern": {
           "shape": ""
          }
         },
         "name": "Primaire",
         "offsetgroup": "Primaire",
         "orientation": "v",
         "showlegend": false,
         "textposition": "auto",
         "type": "bar",
         "x": [
          "Femme",
          "Homme"
         ],
         "xaxis": "x",
         "y": [
          6008.138888888889,
          5880.583333333333
         ],
         "yaxis": "y"
        },
        {
         "alignmentgroup": "True",
         "hovertemplate": "Niveau d'éducation=Secondaire inf.<br>Pays et territoires insulaires du Pacifique=Kiribati<br>Sexe=%{x}<br>Total population=%{y}<extra></extra>",
         "legendgroup": "Secondaire inf.",
         "marker": {
          "color": "#00cc96",
          "pattern": {
           "shape": ""
          }
         },
         "name": "Secondaire inf.",
         "offsetgroup": "Secondaire inf.",
         "orientation": "v",
         "showlegend": true,
         "textposition": "auto",
         "type": "bar",
         "x": [
          "Femme",
          "Homme"
         ],
         "xaxis": "x7",
         "y": [
          2320.8888888888887,
          2233.777777777778
         ],
         "yaxis": "y7"
        },
        {
         "alignmentgroup": "True",
         "hovertemplate": "Niveau d'éducation=Secondaire inf.<br>Pays et territoires insulaires du Pacifique=Marshall Islands<br>Sexe=%{x}<br>Total population=%{y}<extra></extra>",
         "legendgroup": "Secondaire inf.",
         "marker": {
          "color": "#00cc96",
          "pattern": {
           "shape": ""
          }
         },
         "name": "Secondaire inf.",
         "offsetgroup": "Secondaire inf.",
         "orientation": "v",
         "showlegend": false,
         "textposition": "auto",
         "type": "bar",
         "x": [
          "Femme",
          "Homme"
         ],
         "xaxis": "x6",
         "y": [
          750.6666666666666,
          639
         ],
         "yaxis": "y6"
        },
        {
         "alignmentgroup": "True",
         "hovertemplate": "Niveau d'éducation=Secondaire inf.<br>Pays et territoires insulaires du Pacifique=Nauru<br>Sexe=%{x}<br>Total population=%{y}<extra></extra>",
         "legendgroup": "Secondaire inf.",
         "marker": {
          "color": "#00cc96",
          "pattern": {
           "shape": ""
          }
         },
         "name": "Secondaire inf.",
         "offsetgroup": "Secondaire inf.",
         "orientation": "v",
         "showlegend": false,
         "textposition": "auto",
         "type": "bar",
         "x": [
          "Femme",
          "Homme"
         ],
         "xaxis": "x5",
         "y": [
          173.0909090909091,
          230.33333333333334
         ],
         "yaxis": "y5"
        },
        {
         "alignmentgroup": "True",
         "hovertemplate": "Niveau d'éducation=Secondaire inf.<br>Pays et territoires insulaires du Pacifique=Palau<br>Sexe=%{x}<br>Total population=%{y}<extra></extra>",
         "legendgroup": "Secondaire inf.",
         "marker": {
          "color": "#00cc96",
          "pattern": {
           "shape": ""
          }
         },
         "name": "Secondaire inf.",
         "offsetgroup": "Secondaire inf.",
         "orientation": "v",
         "showlegend": false,
         "textposition": "auto",
         "type": "bar",
         "x": [
          "Femme",
          "Homme"
         ],
         "xaxis": "x4",
         "y": [
          30.076923076923077,
          58.25806451612903
         ],
         "yaxis": "y4"
        },
        {
         "alignmentgroup": "True",
         "hovertemplate": "Niveau d'éducation=Secondaire inf.<br>Pays et territoires insulaires du Pacifique=Tonga<br>Sexe=%{x}<br>Total population=%{y}<extra></extra>",
         "legendgroup": "Secondaire inf.",
         "marker": {
          "color": "#00cc96",
          "pattern": {
           "shape": ""
          }
         },
         "name": "Secondaire inf.",
         "offsetgroup": "Secondaire inf.",
         "orientation": "v",
         "showlegend": false,
         "textposition": "auto",
         "type": "bar",
         "x": [
          "Femme",
          "Homme"
         ],
         "xaxis": "x3",
         "y": [
          1196.4444444444443,
          1181.3333333333333
         ],
         "yaxis": "y3"
        },
        {
         "alignmentgroup": "True",
         "hovertemplate": "Niveau d'éducation=Secondaire inf.<br>Pays et territoires insulaires du Pacifique=Tuvalu<br>Sexe=%{x}<br>Total population=%{y}<extra></extra>",
         "legendgroup": "Secondaire inf.",
         "marker": {
          "color": "#00cc96",
          "pattern": {
           "shape": ""
          }
         },
         "name": "Secondaire inf.",
         "offsetgroup": "Secondaire inf.",
         "orientation": "v",
         "showlegend": false,
         "textposition": "auto",
         "type": "bar",
         "x": [
          "Femme",
          "Homme"
         ],
         "xaxis": "x2",
         "y": [
          198.38709677419354,
          225.29032258064515
         ],
         "yaxis": "y2"
        },
        {
         "alignmentgroup": "True",
         "hovertemplate": "Niveau d'éducation=Secondaire inf.<br>Pays et territoires insulaires du Pacifique=Vanuatu<br>Sexe=%{x}<br>Total population=%{y}<extra></extra>",
         "legendgroup": "Secondaire inf.",
         "marker": {
          "color": "#00cc96",
          "pattern": {
           "shape": ""
          }
         },
         "name": "Secondaire inf.",
         "offsetgroup": "Secondaire inf.",
         "orientation": "v",
         "showlegend": false,
         "textposition": "auto",
         "type": "bar",
         "x": [
          "Femme",
          "Homme"
         ],
         "xaxis": "x",
         "y": [
          3554.0555555555557,
          3353.1666666666665
         ],
         "yaxis": "y"
        },
        {
         "alignmentgroup": "True",
         "hovertemplate": "Niveau d'éducation=Secondaire sup.<br>Pays et territoires insulaires du Pacifique=Kiribati<br>Sexe=%{x}<br>Total population=%{y}<extra></extra>",
         "legendgroup": "Secondaire sup.",
         "marker": {
          "color": "#ab63fa",
          "pattern": {
           "shape": ""
          }
         },
         "name": "Secondaire sup.",
         "offsetgroup": "Secondaire sup.",
         "orientation": "v",
         "showlegend": true,
         "textposition": "auto",
         "type": "bar",
         "x": [
          "Femme",
          "Homme"
         ],
         "xaxis": "x7",
         "y": [
          2589.5555555555557,
          2037.111111111111
         ],
         "yaxis": "y7"
        },
        {
         "alignmentgroup": "True",
         "hovertemplate": "Niveau d'éducation=Secondaire sup.<br>Pays et territoires insulaires du Pacifique=Marshall Islands<br>Sexe=%{x}<br>Total population=%{y}<extra></extra>",
         "legendgroup": "Secondaire sup.",
         "marker": {
          "color": "#ab63fa",
          "pattern": {
           "shape": ""
          }
         },
         "name": "Secondaire sup.",
         "offsetgroup": "Secondaire sup.",
         "orientation": "v",
         "showlegend": false,
         "textposition": "auto",
         "type": "bar",
         "x": [
          "Femme",
          "Homme"
         ],
         "xaxis": "x6",
         "y": [
          1051.3333333333333,
          1083
         ],
         "yaxis": "y6"
        },
        {
         "alignmentgroup": "True",
         "hovertemplate": "Niveau d'éducation=Secondaire sup.<br>Pays et territoires insulaires du Pacifique=Nauru<br>Sexe=%{x}<br>Total population=%{y}<extra></extra>",
         "legendgroup": "Secondaire sup.",
         "marker": {
          "color": "#ab63fa",
          "pattern": {
           "shape": ""
          }
         },
         "name": "Secondaire sup.",
         "offsetgroup": "Secondaire sup.",
         "orientation": "v",
         "showlegend": false,
         "textposition": "auto",
         "type": "bar",
         "x": [
          "Femme",
          "Homme"
         ],
         "xaxis": "x5",
         "y": [
          525,
          461.3333333333333
         ],
         "yaxis": "y5"
        },
        {
         "alignmentgroup": "True",
         "hovertemplate": "Niveau d'éducation=Secondaire sup.<br>Pays et territoires insulaires du Pacifique=Palau<br>Sexe=%{x}<br>Total population=%{y}<extra></extra>",
         "legendgroup": "Secondaire sup.",
         "marker": {
          "color": "#ab63fa",
          "pattern": {
           "shape": ""
          }
         },
         "name": "Secondaire sup.",
         "offsetgroup": "Secondaire sup.",
         "orientation": "v",
         "showlegend": false,
         "textposition": "auto",
         "type": "bar",
         "x": [
          "Femme",
          "Homme"
         ],
         "xaxis": "x4",
         "y": [
          652.4444444444445,
          873.1111111111111
         ],
         "yaxis": "y4"
        },
        {
         "alignmentgroup": "True",
         "hovertemplate": "Niveau d'éducation=Secondaire sup.<br>Pays et territoires insulaires du Pacifique=Tonga<br>Sexe=%{x}<br>Total population=%{y}<extra></extra>",
         "legendgroup": "Secondaire sup.",
         "marker": {
          "color": "#ab63fa",
          "pattern": {
           "shape": ""
          }
         },
         "name": "Secondaire sup.",
         "offsetgroup": "Secondaire sup.",
         "orientation": "v",
         "showlegend": false,
         "textposition": "auto",
         "type": "bar",
         "x": [
          "Femme",
          "Homme"
         ],
         "xaxis": "x3",
         "y": [
          2368,
          1777.3333333333333
         ],
         "yaxis": "y3"
        },
        {
         "alignmentgroup": "True",
         "hovertemplate": "Niveau d'éducation=Secondaire sup.<br>Pays et territoires insulaires du Pacifique=Tuvalu<br>Sexe=%{x}<br>Total population=%{y}<extra></extra>",
         "legendgroup": "Secondaire sup.",
         "marker": {
          "color": "#ab63fa",
          "pattern": {
           "shape": ""
          }
         },
         "name": "Secondaire sup.",
         "offsetgroup": "Secondaire sup.",
         "orientation": "v",
         "showlegend": false,
         "textposition": "auto",
         "type": "bar",
         "x": [
          "Femme",
          "Homme"
         ],
         "xaxis": "x2",
         "y": [
          119.7,
          100.63636363636364
         ],
         "yaxis": "y2"
        },
        {
         "alignmentgroup": "True",
         "hovertemplate": "Niveau d'éducation=Secondaire sup.<br>Pays et territoires insulaires du Pacifique=Vanuatu<br>Sexe=%{x}<br>Total population=%{y}<extra></extra>",
         "legendgroup": "Secondaire sup.",
         "marker": {
          "color": "#ab63fa",
          "pattern": {
           "shape": ""
          }
         },
         "name": "Secondaire sup.",
         "offsetgroup": "Secondaire sup.",
         "orientation": "v",
         "showlegend": false,
         "textposition": "auto",
         "type": "bar",
         "x": [
          "Femme",
          "Homme"
         ],
         "xaxis": "x",
         "y": [
          1806.638888888889,
          1874.361111111111
         ],
         "yaxis": "y"
        },
        {
         "alignmentgroup": "True",
         "hovertemplate": "Niveau d'éducation=Post-sec. non sup.<br>Pays et territoires insulaires du Pacifique=Kiribati<br>Sexe=%{x}<br>Total population=%{y}<extra></extra>",
         "legendgroup": "Post-sec. non sup.",
         "marker": {
          "color": "#FFA15A",
          "pattern": {
           "shape": ""
          }
         },
         "name": "Post-sec. non sup.",
         "offsetgroup": "Post-sec. non sup.",
         "orientation": "v",
         "showlegend": true,
         "textposition": "auto",
         "type": "bar",
         "x": [
          "Femme",
          "Homme"
         ],
         "xaxis": "x7",
         "y": [
          141.53571428571428,
          121.93333333333334
         ],
         "yaxis": "y7"
        },
        {
         "alignmentgroup": "True",
         "hovertemplate": "Niveau d'éducation=Post-sec. non sup.<br>Pays et territoires insulaires du Pacifique=Nauru<br>Sexe=%{x}<br>Total population=%{y}<extra></extra>",
         "legendgroup": "Post-sec. non sup.",
         "marker": {
          "color": "#FFA15A",
          "pattern": {
           "shape": ""
          }
         },
         "name": "Post-sec. non sup.",
         "offsetgroup": "Post-sec. non sup.",
         "orientation": "v",
         "showlegend": false,
         "textposition": "auto",
         "type": "bar",
         "x": [
          "Femme",
          "Homme"
         ],
         "xaxis": "x5",
         "y": [
          16.5,
          14.5
         ],
         "yaxis": "y5"
        },
        {
         "alignmentgroup": "True",
         "hovertemplate": "Niveau d'éducation=Post-sec. non sup.<br>Pays et territoires insulaires du Pacifique=Palau<br>Sexe=%{x}<br>Total population=%{y}<extra></extra>",
         "legendgroup": "Post-sec. non sup.",
         "marker": {
          "color": "#FFA15A",
          "pattern": {
           "shape": ""
          }
         },
         "name": "Post-sec. non sup.",
         "offsetgroup": "Post-sec. non sup.",
         "orientation": "v",
         "showlegend": false,
         "textposition": "auto",
         "type": "bar",
         "x": [
          "Femme",
          "Homme"
         ],
         "xaxis": "x4",
         "y": [
          63.55555555555556,
          122.60714285714286
         ],
         "yaxis": "y4"
        },
        {
         "alignmentgroup": "True",
         "hovertemplate": "Niveau d'éducation=Post-sec. non sup.<br>Pays et territoires insulaires du Pacifique=Tuvalu<br>Sexe=%{x}<br>Total population=%{y}<extra></extra>",
         "legendgroup": "Post-sec. non sup.",
         "marker": {
          "color": "#FFA15A",
          "pattern": {
           "shape": ""
          }
         },
         "name": "Post-sec. non sup.",
         "offsetgroup": "Post-sec. non sup.",
         "orientation": "v",
         "showlegend": false,
         "textposition": "auto",
         "type": "bar",
         "x": [
          "Femme",
          "Homme"
         ],
         "xaxis": "x2",
         "y": [
          21.714285714285715,
          60.888888888888886
         ],
         "yaxis": "y2"
        },
        {
         "alignmentgroup": "True",
         "hovertemplate": "Niveau d'éducation=Tertiaire<br>Pays et territoires insulaires du Pacifique=Kiribati<br>Sexe=%{x}<br>Total population=%{y}<extra></extra>",
         "legendgroup": "Tertiaire",
         "marker": {
          "color": "#19d3f3",
          "pattern": {
           "shape": ""
          }
         },
         "name": "Tertiaire",
         "offsetgroup": "Tertiaire",
         "orientation": "v",
         "showlegend": true,
         "textposition": "auto",
         "type": "bar",
         "x": [
          "Femme",
          "Homme"
         ],
         "xaxis": "x7",
         "y": [
          282.92857142857144,
          206.21212121212122
         ],
         "yaxis": "y7"
        },
        {
         "alignmentgroup": "True",
         "hovertemplate": "Niveau d'éducation=Tertiaire<br>Pays et territoires insulaires du Pacifique=Marshall Islands<br>Sexe=%{x}<br>Total population=%{y}<extra></extra>",
         "legendgroup": "Tertiaire",
         "marker": {
          "color": "#19d3f3",
          "pattern": {
           "shape": ""
          }
         },
         "name": "Tertiaire",
         "offsetgroup": "Tertiaire",
         "orientation": "v",
         "showlegend": false,
         "textposition": "auto",
         "type": "bar",
         "x": [
          "Femme",
          "Homme"
         ],
         "xaxis": "x6",
         "y": [
          478,
          502
         ],
         "yaxis": "y6"
        },
        {
         "alignmentgroup": "True",
         "hovertemplate": "Niveau d'éducation=Tertiaire<br>Pays et territoires insulaires du Pacifique=Nauru<br>Sexe=%{x}<br>Total population=%{y}<extra></extra>",
         "legendgroup": "Tertiaire",
         "marker": {
          "color": "#19d3f3",
          "pattern": {
           "shape": ""
          }
         },
         "name": "Tertiaire",
         "offsetgroup": "Tertiaire",
         "orientation": "v",
         "showlegend": false,
         "textposition": "auto",
         "type": "bar",
         "x": [
          "Femme",
          "Homme"
         ],
         "xaxis": "x5",
         "y": [
          66,
          53.25
         ],
         "yaxis": "y5"
        },
        {
         "alignmentgroup": "True",
         "hovertemplate": "Niveau d'éducation=Tertiaire<br>Pays et territoires insulaires du Pacifique=Palau<br>Sexe=%{x}<br>Total population=%{y}<extra></extra>",
         "legendgroup": "Tertiaire",
         "marker": {
          "color": "#19d3f3",
          "pattern": {
           "shape": ""
          }
         },
         "name": "Tertiaire",
         "offsetgroup": "Tertiaire",
         "orientation": "v",
         "showlegend": false,
         "textposition": "auto",
         "type": "bar",
         "x": [
          "Femme",
          "Homme"
         ],
         "xaxis": "x4",
         "y": [
          494.44117647058823,
          406.29411764705884
         ],
         "yaxis": "y4"
        },
        {
         "alignmentgroup": "True",
         "hovertemplate": "Niveau d'éducation=Tertiaire<br>Pays et territoires insulaires du Pacifique=Tonga<br>Sexe=%{x}<br>Total population=%{y}<extra></extra>",
         "legendgroup": "Tertiaire",
         "marker": {
          "color": "#19d3f3",
          "pattern": {
           "shape": ""
          }
         },
         "name": "Tertiaire",
         "offsetgroup": "Tertiaire",
         "orientation": "v",
         "showlegend": false,
         "textposition": "auto",
         "type": "bar",
         "x": [
          "Femme",
          "Homme"
         ],
         "xaxis": "x3",
         "y": [
          1349.7777777777778,
          1130.2222222222222
         ],
         "yaxis": "y3"
        },
        {
         "alignmentgroup": "True",
         "hovertemplate": "Niveau d'éducation=Tertiaire<br>Pays et territoires insulaires du Pacifique=Tuvalu<br>Sexe=%{x}<br>Total population=%{y}<extra></extra>",
         "legendgroup": "Tertiaire",
         "marker": {
          "color": "#19d3f3",
          "pattern": {
           "shape": ""
          }
         },
         "name": "Tertiaire",
         "offsetgroup": "Tertiaire",
         "orientation": "v",
         "showlegend": false,
         "textposition": "auto",
         "type": "bar",
         "x": [
          "Femme",
          "Homme"
         ],
         "xaxis": "x2",
         "y": [
          92.77272727272727,
          79.81818181818181
         ],
         "yaxis": "y2"
        },
        {
         "alignmentgroup": "True",
         "hovertemplate": "Niveau d'éducation=Tertiaire<br>Pays et territoires insulaires du Pacifique=Vanuatu<br>Sexe=%{x}<br>Total population=%{y}<extra></extra>",
         "legendgroup": "Tertiaire",
         "marker": {
          "color": "#19d3f3",
          "pattern": {
           "shape": ""
          }
         },
         "name": "Tertiaire",
         "offsetgroup": "Tertiaire",
         "orientation": "v",
         "showlegend": false,
         "textposition": "auto",
         "type": "bar",
         "x": [
          "Femme",
          "Homme"
         ],
         "xaxis": "x",
         "y": [
          619.6388888888889,
          896.4444444444445
         ],
         "yaxis": "y"
        },
        {
         "alignmentgroup": "True",
         "hovertemplate": "Niveau d'éducation=Non indiqué<br>Pays et territoires insulaires du Pacifique=Kiribati<br>Sexe=%{x}<br>Total population=%{y}<extra></extra>",
         "legendgroup": "Non indiqué",
         "marker": {
          "color": "#FF6692",
          "pattern": {
           "shape": ""
          }
         },
         "name": "Non indiqué",
         "offsetgroup": "Non indiqué",
         "orientation": "v",
         "showlegend": true,
         "textposition": "auto",
         "type": "bar",
         "x": [
          "Femme",
          "Homme"
         ],
         "xaxis": "x7",
         "y": [
          126.17647058823529,
          118.1470588235294
         ],
         "yaxis": "y7"
        },
        {
         "alignmentgroup": "True",
         "hovertemplate": "Niveau d'éducation=Non indiqué<br>Pays et territoires insulaires du Pacifique=Marshall Islands<br>Sexe=%{x}<br>Total population=%{y}<extra></extra>",
         "legendgroup": "Non indiqué",
         "marker": {
          "color": "#FF6692",
          "pattern": {
           "shape": ""
          }
         },
         "name": "Non indiqué",
         "offsetgroup": "Non indiqué",
         "orientation": "v",
         "showlegend": false,
         "textposition": "auto",
         "type": "bar",
         "x": [
          "Femme",
          "Homme"
         ],
         "xaxis": "x6",
         "y": [
          67.55555555555556,
          101.75
         ],
         "yaxis": "y6"
        },
        {
         "alignmentgroup": "True",
         "hovertemplate": "Niveau d'éducation=Non indiqué<br>Pays et territoires insulaires du Pacifique=Nauru<br>Sexe=%{x}<br>Total population=%{y}<extra></extra>",
         "legendgroup": "Non indiqué",
         "marker": {
          "color": "#FF6692",
          "pattern": {
           "shape": ""
          }
         },
         "name": "Non indiqué",
         "offsetgroup": "Non indiqué",
         "orientation": "v",
         "showlegend": false,
         "textposition": "auto",
         "type": "bar",
         "x": [
          "Femme",
          "Homme"
         ],
         "xaxis": "x5",
         "y": [
          57,
          33.55555555555556
         ],
         "yaxis": "y5"
        },
        {
         "alignmentgroup": "True",
         "hovertemplate": "Niveau d'éducation=Non indiqué<br>Pays et territoires insulaires du Pacifique=Tonga<br>Sexe=%{x}<br>Total population=%{y}<extra></extra>",
         "legendgroup": "Non indiqué",
         "marker": {
          "color": "#FF6692",
          "pattern": {
           "shape": ""
          }
         },
         "name": "Non indiqué",
         "offsetgroup": "Non indiqué",
         "orientation": "v",
         "showlegend": false,
         "textposition": "auto",
         "type": "bar",
         "x": [
          "Femme",
          "Homme"
         ],
         "xaxis": "x3",
         "y": [
          18.666666666666668,
          16.944444444444443
         ],
         "yaxis": "y3"
        },
        {
         "alignmentgroup": "True",
         "hovertemplate": "Niveau d'éducation=Non indiqué<br>Pays et territoires insulaires du Pacifique=Tuvalu<br>Sexe=%{x}<br>Total population=%{y}<extra></extra>",
         "legendgroup": "Non indiqué",
         "marker": {
          "color": "#FF6692",
          "pattern": {
           "shape": ""
          }
         },
         "name": "Non indiqué",
         "offsetgroup": "Non indiqué",
         "orientation": "v",
         "showlegend": false,
         "textposition": "auto",
         "type": "bar",
         "x": [
          "Femme",
          "Homme"
         ],
         "xaxis": "x2",
         "y": [
          207.03125,
          175.96774193548387
         ],
         "yaxis": "y2"
        },
        {
         "alignmentgroup": "True",
         "hovertemplate": "Niveau d'éducation=Non indiqué<br>Pays et territoires insulaires du Pacifique=Vanuatu<br>Sexe=%{x}<br>Total population=%{y}<extra></extra>",
         "legendgroup": "Non indiqué",
         "marker": {
          "color": "#FF6692",
          "pattern": {
           "shape": ""
          }
         },
         "name": "Non indiqué",
         "offsetgroup": "Non indiqué",
         "orientation": "v",
         "showlegend": false,
         "textposition": "auto",
         "type": "bar",
         "x": [
          "Femme",
          "Homme"
         ],
         "xaxis": "x",
         "y": [
          39.535714285714285,
          51.964285714285715
         ],
         "yaxis": "y"
        },
        {
         "alignmentgroup": "True",
         "hovertemplate": "Niveau d'éducation=Total<br>Pays et territoires insulaires du Pacifique=Kiribati<br>Sexe=%{x}<br>Total population=%{y}<extra></extra>",
         "legendgroup": "Total",
         "marker": {
          "color": "#B6E880",
          "pattern": {
           "shape": ""
          }
         },
         "name": "Total",
         "offsetgroup": "Total",
         "orientation": "v",
         "showlegend": true,
         "textposition": "auto",
         "type": "bar",
         "x": [
          "Femme",
          "Homme"
         ],
         "xaxis": "x7",
         "y": [
          6321.777777777777,
          5551.555555555556
         ],
         "yaxis": "y7"
        },
        {
         "alignmentgroup": "True",
         "hovertemplate": "Niveau d'éducation=Total<br>Pays et territoires insulaires du Pacifique=Marshall Islands<br>Sexe=%{x}<br>Total population=%{y}<extra></extra>",
         "legendgroup": "Total",
         "marker": {
          "color": "#B6E880",
          "pattern": {
           "shape": ""
          }
         },
         "name": "Total",
         "offsetgroup": "Total",
         "orientation": "v",
         "showlegend": false,
         "textposition": "auto",
         "type": "bar",
         "x": [
          "Femme",
          "Homme"
         ],
         "xaxis": "x6",
         "y": [
          2532.3333333333335,
          2517.6666666666665
         ],
         "yaxis": "y6"
        },
        {
         "alignmentgroup": "True",
         "hovertemplate": "Niveau d'éducation=Total<br>Pays et territoires insulaires du Pacifique=Nauru<br>Sexe=%{x}<br>Total population=%{y}<extra></extra>",
         "legendgroup": "Total",
         "marker": {
          "color": "#B6E880",
          "pattern": {
           "shape": ""
          }
         },
         "name": "Total",
         "offsetgroup": "Total",
         "orientation": "v",
         "showlegend": false,
         "textposition": "auto",
         "type": "bar",
         "x": [
          "Femme",
          "Homme"
         ],
         "xaxis": "x5",
         "y": [
          872.3333333333334,
          854
         ],
         "yaxis": "y5"
        },
        {
         "alignmentgroup": "True",
         "hovertemplate": "Niveau d'éducation=Total<br>Pays et territoires insulaires du Pacifique=Palau<br>Sexe=%{x}<br>Total population=%{y}<extra></extra>",
         "legendgroup": "Total",
         "marker": {
          "color": "#B6E880",
          "pattern": {
           "shape": ""
          }
         },
         "name": "Total",
         "offsetgroup": "Total",
         "orientation": "v",
         "showlegend": false,
         "textposition": "auto",
         "type": "bar",
         "x": [
          "Femme",
          "Homme"
         ],
         "xaxis": "x4",
         "y": [
          1238,
          1494.2222222222222
         ],
         "yaxis": "y4"
        },
        {
         "alignmentgroup": "True",
         "hovertemplate": "Niveau d'éducation=Total<br>Pays et territoires insulaires du Pacifique=Tonga<br>Sexe=%{x}<br>Total population=%{y}<extra></extra>",
         "legendgroup": "Total",
         "marker": {
          "color": "#B6E880",
          "pattern": {
           "shape": ""
          }
         },
         "name": "Total",
         "offsetgroup": "Total",
         "orientation": "v",
         "showlegend": false,
         "textposition": "auto",
         "type": "bar",
         "x": [
          "Femme",
          "Homme"
         ],
         "xaxis": "x3",
         "y": [
          5515.333333333333,
          4625.333333333333
         ],
         "yaxis": "y3"
        },
        {
         "alignmentgroup": "True",
         "hovertemplate": "Niveau d'éducation=Total<br>Pays et territoires insulaires du Pacifique=Tuvalu<br>Sexe=%{x}<br>Total population=%{y}<extra></extra>",
         "legendgroup": "Total",
         "marker": {
          "color": "#B6E880",
          "pattern": {
           "shape": ""
          }
         },
         "name": "Total",
         "offsetgroup": "Total",
         "orientation": "v",
         "showlegend": false,
         "textposition": "auto",
         "type": "bar",
         "x": [
          "Femme",
          "Homme"
         ],
         "xaxis": "x2",
         "y": [
          549.7777777777778,
          542
         ],
         "yaxis": "y2"
        },
        {
         "alignmentgroup": "True",
         "hovertemplate": "Niveau d'éducation=Total<br>Pays et territoires insulaires du Pacifique=Vanuatu<br>Sexe=%{x}<br>Total population=%{y}<extra></extra>",
         "legendgroup": "Total",
         "marker": {
          "color": "#B6E880",
          "pattern": {
           "shape": ""
          }
         },
         "name": "Total",
         "offsetgroup": "Total",
         "orientation": "v",
         "showlegend": false,
         "textposition": "auto",
         "type": "bar",
         "x": [
          "Femme",
          "Homme"
         ],
         "xaxis": "x",
         "y": [
          14501.555555555555,
          14037.861111111111
         ],
         "yaxis": "y"
        }
       ],
       "layout": {
        "annotations": [
         {
          "font": {},
          "showarrow": false,
          "text": "Vanuatu",
          "textangle": 90,
          "x": 0.98,
          "xanchor": "left",
          "xref": "paper",
          "y": 0.05857142857142857,
          "yanchor": "middle",
          "yref": "paper"
         },
         {
          "font": {},
          "showarrow": false,
          "text": "Tuvalu",
          "textangle": 90,
          "x": 0.98,
          "xanchor": "left",
          "xref": "paper",
          "y": 0.2057142857142857,
          "yanchor": "middle",
          "yref": "paper"
         },
         {
          "font": {},
          "showarrow": false,
          "text": "Tonga",
          "textangle": 90,
          "x": 0.98,
          "xanchor": "left",
          "xref": "paper",
          "y": 0.35285714285714287,
          "yanchor": "middle",
          "yref": "paper"
         },
         {
          "font": {},
          "showarrow": false,
          "text": "Palau",
          "textangle": 90,
          "x": 0.98,
          "xanchor": "left",
          "xref": "paper",
          "y": 0.49999999999999994,
          "yanchor": "middle",
          "yref": "paper"
         },
         {
          "font": {},
          "showarrow": false,
          "text": "Nauru",
          "textangle": 90,
          "x": 0.98,
          "xanchor": "left",
          "xref": "paper",
          "y": 0.647142857142857,
          "yanchor": "middle",
          "yref": "paper"
         },
         {
          "font": {},
          "showarrow": false,
          "text": "Marshall Islands",
          "textangle": 90,
          "x": 0.98,
          "xanchor": "left",
          "xref": "paper",
          "y": 0.7942857142857143,
          "yanchor": "middle",
          "yref": "paper"
         },
         {
          "font": {},
          "showarrow": false,
          "text": "Kiribati",
          "textangle": 90,
          "x": 0.98,
          "xanchor": "left",
          "xref": "paper",
          "y": 0.9414285714285713,
          "yanchor": "middle",
          "yref": "paper"
         }
        ],
        "barmode": "group",
        "height": 1400,
        "legend": {
         "title": {
          "text": "Niveau d'éducation"
         },
         "tracegroupgap": 0
        },
        "template": {
         "data": {
          "bar": [
           {
            "error_x": {
             "color": "#2a3f5f"
            },
            "error_y": {
             "color": "#2a3f5f"
            },
            "marker": {
             "line": {
              "color": "#E5ECF6",
              "width": 0.5
             },
             "pattern": {
              "fillmode": "overlay",
              "size": 10,
              "solidity": 0.2
             }
            },
            "type": "bar"
           }
          ],
          "barpolar": [
           {
            "marker": {
             "line": {
              "color": "#E5ECF6",
              "width": 0.5
             },
             "pattern": {
              "fillmode": "overlay",
              "size": 10,
              "solidity": 0.2
             }
            },
            "type": "barpolar"
           }
          ],
          "carpet": [
           {
            "aaxis": {
             "endlinecolor": "#2a3f5f",
             "gridcolor": "white",
             "linecolor": "white",
             "minorgridcolor": "white",
             "startlinecolor": "#2a3f5f"
            },
            "baxis": {
             "endlinecolor": "#2a3f5f",
             "gridcolor": "white",
             "linecolor": "white",
             "minorgridcolor": "white",
             "startlinecolor": "#2a3f5f"
            },
            "type": "carpet"
           }
          ],
          "choropleth": [
           {
            "colorbar": {
             "outlinewidth": 0,
             "ticks": ""
            },
            "type": "choropleth"
           }
          ],
          "contour": [
           {
            "colorbar": {
             "outlinewidth": 0,
             "ticks": ""
            },
            "colorscale": [
             [
              0,
              "#0d0887"
             ],
             [
              0.1111111111111111,
              "#46039f"
             ],
             [
              0.2222222222222222,
              "#7201a8"
             ],
             [
              0.3333333333333333,
              "#9c179e"
             ],
             [
              0.4444444444444444,
              "#bd3786"
             ],
             [
              0.5555555555555556,
              "#d8576b"
             ],
             [
              0.6666666666666666,
              "#ed7953"
             ],
             [
              0.7777777777777778,
              "#fb9f3a"
             ],
             [
              0.8888888888888888,
              "#fdca26"
             ],
             [
              1,
              "#f0f921"
             ]
            ],
            "type": "contour"
           }
          ],
          "contourcarpet": [
           {
            "colorbar": {
             "outlinewidth": 0,
             "ticks": ""
            },
            "type": "contourcarpet"
           }
          ],
          "heatmap": [
           {
            "colorbar": {
             "outlinewidth": 0,
             "ticks": ""
            },
            "colorscale": [
             [
              0,
              "#0d0887"
             ],
             [
              0.1111111111111111,
              "#46039f"
             ],
             [
              0.2222222222222222,
              "#7201a8"
             ],
             [
              0.3333333333333333,
              "#9c179e"
             ],
             [
              0.4444444444444444,
              "#bd3786"
             ],
             [
              0.5555555555555556,
              "#d8576b"
             ],
             [
              0.6666666666666666,
              "#ed7953"
             ],
             [
              0.7777777777777778,
              "#fb9f3a"
             ],
             [
              0.8888888888888888,
              "#fdca26"
             ],
             [
              1,
              "#f0f921"
             ]
            ],
            "type": "heatmap"
           }
          ],
          "heatmapgl": [
           {
            "colorbar": {
             "outlinewidth": 0,
             "ticks": ""
            },
            "colorscale": [
             [
              0,
              "#0d0887"
             ],
             [
              0.1111111111111111,
              "#46039f"
             ],
             [
              0.2222222222222222,
              "#7201a8"
             ],
             [
              0.3333333333333333,
              "#9c179e"
             ],
             [
              0.4444444444444444,
              "#bd3786"
             ],
             [
              0.5555555555555556,
              "#d8576b"
             ],
             [
              0.6666666666666666,
              "#ed7953"
             ],
             [
              0.7777777777777778,
              "#fb9f3a"
             ],
             [
              0.8888888888888888,
              "#fdca26"
             ],
             [
              1,
              "#f0f921"
             ]
            ],
            "type": "heatmapgl"
           }
          ],
          "histogram": [
           {
            "marker": {
             "pattern": {
              "fillmode": "overlay",
              "size": 10,
              "solidity": 0.2
             }
            },
            "type": "histogram"
           }
          ],
          "histogram2d": [
           {
            "colorbar": {
             "outlinewidth": 0,
             "ticks": ""
            },
            "colorscale": [
             [
              0,
              "#0d0887"
             ],
             [
              0.1111111111111111,
              "#46039f"
             ],
             [
              0.2222222222222222,
              "#7201a8"
             ],
             [
              0.3333333333333333,
              "#9c179e"
             ],
             [
              0.4444444444444444,
              "#bd3786"
             ],
             [
              0.5555555555555556,
              "#d8576b"
             ],
             [
              0.6666666666666666,
              "#ed7953"
             ],
             [
              0.7777777777777778,
              "#fb9f3a"
             ],
             [
              0.8888888888888888,
              "#fdca26"
             ],
             [
              1,
              "#f0f921"
             ]
            ],
            "type": "histogram2d"
           }
          ],
          "histogram2dcontour": [
           {
            "colorbar": {
             "outlinewidth": 0,
             "ticks": ""
            },
            "colorscale": [
             [
              0,
              "#0d0887"
             ],
             [
              0.1111111111111111,
              "#46039f"
             ],
             [
              0.2222222222222222,
              "#7201a8"
             ],
             [
              0.3333333333333333,
              "#9c179e"
             ],
             [
              0.4444444444444444,
              "#bd3786"
             ],
             [
              0.5555555555555556,
              "#d8576b"
             ],
             [
              0.6666666666666666,
              "#ed7953"
             ],
             [
              0.7777777777777778,
              "#fb9f3a"
             ],
             [
              0.8888888888888888,
              "#fdca26"
             ],
             [
              1,
              "#f0f921"
             ]
            ],
            "type": "histogram2dcontour"
           }
          ],
          "mesh3d": [
           {
            "colorbar": {
             "outlinewidth": 0,
             "ticks": ""
            },
            "type": "mesh3d"
           }
          ],
          "parcoords": [
           {
            "line": {
             "colorbar": {
              "outlinewidth": 0,
              "ticks": ""
             }
            },
            "type": "parcoords"
           }
          ],
          "pie": [
           {
            "automargin": true,
            "type": "pie"
           }
          ],
          "scatter": [
           {
            "fillpattern": {
             "fillmode": "overlay",
             "size": 10,
             "solidity": 0.2
            },
            "type": "scatter"
           }
          ],
          "scatter3d": [
           {
            "line": {
             "colorbar": {
              "outlinewidth": 0,
              "ticks": ""
             }
            },
            "marker": {
             "colorbar": {
              "outlinewidth": 0,
              "ticks": ""
             }
            },
            "type": "scatter3d"
           }
          ],
          "scattercarpet": [
           {
            "marker": {
             "colorbar": {
              "outlinewidth": 0,
              "ticks": ""
             }
            },
            "type": "scattercarpet"
           }
          ],
          "scattergeo": [
           {
            "marker": {
             "colorbar": {
              "outlinewidth": 0,
              "ticks": ""
             }
            },
            "type": "scattergeo"
           }
          ],
          "scattergl": [
           {
            "marker": {
             "colorbar": {
              "outlinewidth": 0,
              "ticks": ""
             }
            },
            "type": "scattergl"
           }
          ],
          "scattermapbox": [
           {
            "marker": {
             "colorbar": {
              "outlinewidth": 0,
              "ticks": ""
             }
            },
            "type": "scattermapbox"
           }
          ],
          "scatterpolar": [
           {
            "marker": {
             "colorbar": {
              "outlinewidth": 0,
              "ticks": ""
             }
            },
            "type": "scatterpolar"
           }
          ],
          "scatterpolargl": [
           {
            "marker": {
             "colorbar": {
              "outlinewidth": 0,
              "ticks": ""
             }
            },
            "type": "scatterpolargl"
           }
          ],
          "scatterternary": [
           {
            "marker": {
             "colorbar": {
              "outlinewidth": 0,
              "ticks": ""
             }
            },
            "type": "scatterternary"
           }
          ],
          "surface": [
           {
            "colorbar": {
             "outlinewidth": 0,
             "ticks": ""
            },
            "colorscale": [
             [
              0,
              "#0d0887"
             ],
             [
              0.1111111111111111,
              "#46039f"
             ],
             [
              0.2222222222222222,
              "#7201a8"
             ],
             [
              0.3333333333333333,
              "#9c179e"
             ],
             [
              0.4444444444444444,
              "#bd3786"
             ],
             [
              0.5555555555555556,
              "#d8576b"
             ],
             [
              0.6666666666666666,
              "#ed7953"
             ],
             [
              0.7777777777777778,
              "#fb9f3a"
             ],
             [
              0.8888888888888888,
              "#fdca26"
             ],
             [
              1,
              "#f0f921"
             ]
            ],
            "type": "surface"
           }
          ],
          "table": [
           {
            "cells": {
             "fill": {
              "color": "#EBF0F8"
             },
             "line": {
              "color": "white"
             }
            },
            "header": {
             "fill": {
              "color": "#C8D4E3"
             },
             "line": {
              "color": "white"
             }
            },
            "type": "table"
           }
          ]
         },
         "layout": {
          "annotationdefaults": {
           "arrowcolor": "#2a3f5f",
           "arrowhead": 0,
           "arrowwidth": 1
          },
          "autotypenumbers": "strict",
          "coloraxis": {
           "colorbar": {
            "outlinewidth": 0,
            "ticks": ""
           }
          },
          "colorscale": {
           "diverging": [
            [
             0,
             "#8e0152"
            ],
            [
             0.1,
             "#c51b7d"
            ],
            [
             0.2,
             "#de77ae"
            ],
            [
             0.3,
             "#f1b6da"
            ],
            [
             0.4,
             "#fde0ef"
            ],
            [
             0.5,
             "#f7f7f7"
            ],
            [
             0.6,
             "#e6f5d0"
            ],
            [
             0.7,
             "#b8e186"
            ],
            [
             0.8,
             "#7fbc41"
            ],
            [
             0.9,
             "#4d9221"
            ],
            [
             1,
             "#276419"
            ]
           ],
           "sequential": [
            [
             0,
             "#0d0887"
            ],
            [
             0.1111111111111111,
             "#46039f"
            ],
            [
             0.2222222222222222,
             "#7201a8"
            ],
            [
             0.3333333333333333,
             "#9c179e"
            ],
            [
             0.4444444444444444,
             "#bd3786"
            ],
            [
             0.5555555555555556,
             "#d8576b"
            ],
            [
             0.6666666666666666,
             "#ed7953"
            ],
            [
             0.7777777777777778,
             "#fb9f3a"
            ],
            [
             0.8888888888888888,
             "#fdca26"
            ],
            [
             1,
             "#f0f921"
            ]
           ],
           "sequentialminus": [
            [
             0,
             "#0d0887"
            ],
            [
             0.1111111111111111,
             "#46039f"
            ],
            [
             0.2222222222222222,
             "#7201a8"
            ],
            [
             0.3333333333333333,
             "#9c179e"
            ],
            [
             0.4444444444444444,
             "#bd3786"
            ],
            [
             0.5555555555555556,
             "#d8576b"
            ],
            [
             0.6666666666666666,
             "#ed7953"
            ],
            [
             0.7777777777777778,
             "#fb9f3a"
            ],
            [
             0.8888888888888888,
             "#fdca26"
            ],
            [
             1,
             "#f0f921"
            ]
           ]
          },
          "colorway": [
           "#636efa",
           "#EF553B",
           "#00cc96",
           "#ab63fa",
           "#FFA15A",
           "#19d3f3",
           "#FF6692",
           "#B6E880",
           "#FF97FF",
           "#FECB52"
          ],
          "font": {
           "color": "#2a3f5f"
          },
          "geo": {
           "bgcolor": "white",
           "lakecolor": "white",
           "landcolor": "#E5ECF6",
           "showlakes": true,
           "showland": true,
           "subunitcolor": "white"
          },
          "hoverlabel": {
           "align": "left"
          },
          "hovermode": "closest",
          "mapbox": {
           "style": "light"
          },
          "paper_bgcolor": "white",
          "plot_bgcolor": "#E5ECF6",
          "polar": {
           "angularaxis": {
            "gridcolor": "white",
            "linecolor": "white",
            "ticks": ""
           },
           "bgcolor": "#E5ECF6",
           "radialaxis": {
            "gridcolor": "white",
            "linecolor": "white",
            "ticks": ""
           }
          },
          "scene": {
           "xaxis": {
            "backgroundcolor": "#E5ECF6",
            "gridcolor": "white",
            "gridwidth": 2,
            "linecolor": "white",
            "showbackground": true,
            "ticks": "",
            "zerolinecolor": "white"
           },
           "yaxis": {
            "backgroundcolor": "#E5ECF6",
            "gridcolor": "white",
            "gridwidth": 2,
            "linecolor": "white",
            "showbackground": true,
            "ticks": "",
            "zerolinecolor": "white"
           },
           "zaxis": {
            "backgroundcolor": "#E5ECF6",
            "gridcolor": "white",
            "gridwidth": 2,
            "linecolor": "white",
            "showbackground": true,
            "ticks": "",
            "zerolinecolor": "white"
           }
          },
          "shapedefaults": {
           "line": {
            "color": "#2a3f5f"
           }
          },
          "ternary": {
           "aaxis": {
            "gridcolor": "white",
            "linecolor": "white",
            "ticks": ""
           },
           "baxis": {
            "gridcolor": "white",
            "linecolor": "white",
            "ticks": ""
           },
           "bgcolor": "#E5ECF6",
           "caxis": {
            "gridcolor": "white",
            "linecolor": "white",
            "ticks": ""
           }
          },
          "title": {
           "x": 0.05
          },
          "xaxis": {
           "automargin": true,
           "gridcolor": "white",
           "linecolor": "white",
           "ticks": "",
           "title": {
            "standoff": 15
           },
           "zerolinecolor": "white",
           "zerolinewidth": 2
          },
          "yaxis": {
           "automargin": true,
           "gridcolor": "white",
           "linecolor": "white",
           "ticks": "",
           "title": {
            "standoff": 15
           },
           "zerolinecolor": "white",
           "zerolinewidth": 2
          }
         }
        },
        "title": {
         "text": "Education attainment in Kiribati"
        },
        "xaxis": {
         "anchor": "y",
         "domain": [
          0,
          0.98
         ],
         "showticklabels": true,
         "title": {
          "text": ""
         }
        },
        "xaxis2": {
         "anchor": "y2",
         "domain": [
          0,
          0.98
         ],
         "matches": "x",
         "showticklabels": true,
         "title": {
          "text": ""
         }
        },
        "xaxis3": {
         "anchor": "y3",
         "domain": [
          0,
          0.98
         ],
         "matches": "x",
         "showticklabels": true,
         "title": {
          "text": ""
         }
        },
        "xaxis4": {
         "anchor": "y4",
         "domain": [
          0,
          0.98
         ],
         "matches": "x",
         "showticklabels": true,
         "title": {
          "text": ""
         }
        },
        "xaxis5": {
         "anchor": "y5",
         "domain": [
          0,
          0.98
         ],
         "matches": "x",
         "showticklabels": true,
         "title": {
          "text": ""
         }
        },
        "xaxis6": {
         "anchor": "y6",
         "domain": [
          0,
          0.98
         ],
         "matches": "x",
         "showticklabels": true,
         "title": {
          "text": ""
         }
        },
        "xaxis7": {
         "anchor": "y7",
         "domain": [
          0,
          0.98
         ],
         "matches": "x",
         "showticklabels": true,
         "title": {
          "text": ""
         }
        },
        "yaxis": {
         "anchor": "x",
         "domain": [
          0,
          0.11714285714285715
         ],
         "title": {
          "text": "Total population"
         }
        },
        "yaxis2": {
         "anchor": "x2",
         "domain": [
          0.14714285714285713,
          0.2642857142857143
         ],
         "title": {
          "text": "Total population"
         }
        },
        "yaxis3": {
         "anchor": "x3",
         "domain": [
          0.29428571428571426,
          0.4114285714285714
         ],
         "title": {
          "text": "Total population"
         }
        },
        "yaxis4": {
         "anchor": "x4",
         "domain": [
          0.4414285714285714,
          0.5585714285714285
         ],
         "title": {
          "text": "Total population"
         }
        },
        "yaxis5": {
         "anchor": "x5",
         "domain": [
          0.5885714285714285,
          0.7057142857142856
         ],
         "title": {
          "text": "Total population"
         }
        },
        "yaxis6": {
         "anchor": "x6",
         "domain": [
          0.7357142857142858,
          0.8528571428571429
         ],
         "title": {
          "text": "Total population"
         }
        },
        "yaxis7": {
         "anchor": "x7",
         "domain": [
          0.8828571428571428,
          0.9999999999999999
         ],
         "title": {
          "text": "Total population"
         }
        }
       }
      }
     },
     "metadata": {},
     "output_type": "display_data"
    }
   ],
   "source": [
    "fig = px.bar(\n",
    "    all_data.reset_index(),\n",
    "    x=\"Sexe\",\n",
    "    y=\"Value\",\n",
    "    color=\"Niveau d'éducation\",\n",
    "    facet_row=\"Pays et territoires insulaires du Pacifique\",\n",
    "    barmode=\"group\",\n",
    "    title=\"Education attainment in Kiribati\",\n",
    "    labels={\"Value\": \"Total population\"},\n",
    "    # range_y=[0, all_data[\"Value\"].max()],\n",
    "    # Cahange the height of the figure\n",
    "    height=200 * len(all_data[\"Pays et territoires insulaires du Pacifique\"].unique()),\n",
    ")\n",
    "# don't share X between rows\n",
    "fig.update_yaxes(matches=None)\n",
    "# don't show \"Pays et territoires insulaires du Pacifique=\" on the right of the plot\n",
    "fig.for_each_annotation(lambda a: a.update(text=a.text.split(\"=\")[-1]))\n",
    "# show x axis labels on the top of the first row\n",
    "for i, row in enumerate(fig.select_traces()):\n",
    "    # show x labels\n",
    "    fig.update_xaxes(\n",
    "        row=i + 1,\n",
    "        showticklabels=True,\n",
    "        title_text=\"\",\n",
    "    )\n",
    "fig\n",
    "fig.show()"
   ]
  },
  {
   "cell_type": "markdown",
   "metadata": {},
   "source": [
    "## Ratio all\n"
   ]
  },
  {
   "cell_type": "code",
   "execution_count": 9,
   "metadata": {},
   "outputs": [
    {
     "name": "stderr",
     "output_type": "stream",
     "text": [
      "/var/folders/36/grrgsqjd14j4tf6cf5ty4ykh0000gn/T/ipykernel_4751/1741038620.py:4: FutureWarning:\n",
      "\n",
      "The default of observed=False is deprecated and will be changed to True in a future version of pandas. Pass observed=False to retain current behavior or observed=True to adopt the future default and silence this warning.\n",
      "\n",
      "/var/folders/36/grrgsqjd14j4tf6cf5ty4ykh0000gn/T/ipykernel_4751/1741038620.py:10: FutureWarning:\n",
      "\n",
      "The default of observed=False is deprecated and will be changed to True in a future version of pandas. Pass observed=False to retain current behavior or observed=True to adopt the future default and silence this warning.\n",
      "\n"
     ]
    },
    {
     "data": {
      "text/html": [
       "<div>\n",
       "<style scoped>\n",
       "    .dataframe tbody tr th:only-of-type {\n",
       "        vertical-align: middle;\n",
       "    }\n",
       "\n",
       "    .dataframe tbody tr th {\n",
       "        vertical-align: top;\n",
       "    }\n",
       "\n",
       "    .dataframe thead th {\n",
       "        text-align: right;\n",
       "    }\n",
       "</style>\n",
       "<table border=\"1\" class=\"dataframe\">\n",
       "  <thead>\n",
       "    <tr style=\"text-align: right;\">\n",
       "      <th></th>\n",
       "      <th>Pays et territoires insulaires du Pacifique</th>\n",
       "      <th>Niveau d'éducation</th>\n",
       "      <th>Genre</th>\n",
       "      <th>Ratio</th>\n",
       "    </tr>\n",
       "  </thead>\n",
       "  <tbody>\n",
       "    <tr>\n",
       "      <th>0</th>\n",
       "      <td>Kiribati</td>\n",
       "      <td>Petite enfance</td>\n",
       "      <td>Homme</td>\n",
       "      <td>45.454545</td>\n",
       "    </tr>\n",
       "    <tr>\n",
       "      <th>1</th>\n",
       "      <td>Kiribati</td>\n",
       "      <td>Petite enfance</td>\n",
       "      <td>Femme</td>\n",
       "      <td>54.545455</td>\n",
       "    </tr>\n",
       "    <tr>\n",
       "      <th>2</th>\n",
       "      <td>Kiribati</td>\n",
       "      <td>Primaire</td>\n",
       "      <td>Homme</td>\n",
       "      <td>48.361669</td>\n",
       "    </tr>\n",
       "    <tr>\n",
       "      <th>3</th>\n",
       "      <td>Kiribati</td>\n",
       "      <td>Primaire</td>\n",
       "      <td>Femme</td>\n",
       "      <td>51.638331</td>\n",
       "    </tr>\n",
       "    <tr>\n",
       "      <th>4</th>\n",
       "      <td>Kiribati</td>\n",
       "      <td>Secondaire inf.</td>\n",
       "      <td>Homme</td>\n",
       "      <td>49.043716</td>\n",
       "    </tr>\n",
       "    <tr>\n",
       "      <th>...</th>\n",
       "      <td>...</td>\n",
       "      <td>...</td>\n",
       "      <td>...</td>\n",
       "      <td>...</td>\n",
       "    </tr>\n",
       "    <tr>\n",
       "      <th>99</th>\n",
       "      <td>Vanuatu</td>\n",
       "      <td>Tertiaire</td>\n",
       "      <td>Femme</td>\n",
       "      <td>40.871031</td>\n",
       "    </tr>\n",
       "    <tr>\n",
       "      <th>100</th>\n",
       "      <td>Vanuatu</td>\n",
       "      <td>Non indiqué</td>\n",
       "      <td>Homme</td>\n",
       "      <td>56.791569</td>\n",
       "    </tr>\n",
       "    <tr>\n",
       "      <th>101</th>\n",
       "      <td>Vanuatu</td>\n",
       "      <td>Non indiqué</td>\n",
       "      <td>Femme</td>\n",
       "      <td>43.208431</td>\n",
       "    </tr>\n",
       "    <tr>\n",
       "      <th>102</th>\n",
       "      <td>Vanuatu</td>\n",
       "      <td>Total</td>\n",
       "      <td>Homme</td>\n",
       "      <td>49.187625</td>\n",
       "    </tr>\n",
       "    <tr>\n",
       "      <th>103</th>\n",
       "      <td>Vanuatu</td>\n",
       "      <td>Total</td>\n",
       "      <td>Femme</td>\n",
       "      <td>50.812375</td>\n",
       "    </tr>\n",
       "  </tbody>\n",
       "</table>\n",
       "<p>104 rows × 4 columns</p>\n",
       "</div>"
      ],
      "text/plain": [
       "    Pays et territoires insulaires du Pacifique Niveau d'éducation  Genre  \\\n",
       "0                                      Kiribati     Petite enfance  Homme   \n",
       "1                                      Kiribati     Petite enfance  Femme   \n",
       "2                                      Kiribati           Primaire  Homme   \n",
       "3                                      Kiribati           Primaire  Femme   \n",
       "4                                      Kiribati    Secondaire inf.  Homme   \n",
       "..                                          ...                ...    ...   \n",
       "99                                      Vanuatu          Tertiaire  Femme   \n",
       "100                                     Vanuatu        Non indiqué  Homme   \n",
       "101                                     Vanuatu        Non indiqué  Femme   \n",
       "102                                     Vanuatu              Total  Homme   \n",
       "103                                     Vanuatu              Total  Femme   \n",
       "\n",
       "         Ratio  \n",
       "0    45.454545  \n",
       "1    54.545455  \n",
       "2    48.361669  \n",
       "3    51.638331  \n",
       "4    49.043716  \n",
       "..         ...  \n",
       "99   40.871031  \n",
       "100  56.791569  \n",
       "101  43.208431  \n",
       "102  49.187625  \n",
       "103  50.812375  \n",
       "\n",
       "[104 rows x 4 columns]"
      ]
     },
     "execution_count": 9,
     "metadata": {},
     "output_type": "execute_result"
    }
   ],
   "source": [
    "ratio_all_homme = (\n",
    "    all_data.query(\"Sexe == 'Homme'\")\n",
    "    .drop(columns=\"Sexe\")\n",
    "    .groupby([\"Pays et territoires insulaires du Pacifique\", \"Niveau d'éducation\"])\n",
    "    .sum()\n",
    ")\n",
    "ratio_all_femme = (\n",
    "    all_data.query(\"Sexe == 'Femme'\")\n",
    "    .drop(columns=\"Sexe\")\n",
    "    .groupby([\"Pays et territoires insulaires du Pacifique\", \"Niveau d'éducation\"])\n",
    "    .sum()\n",
    ")\n",
    "ratio_all = ratio_all_homme + ratio_all_femme\n",
    "\n",
    "ratio_all_homme = (ratio_all_homme / ratio_all) * 100\n",
    "ratio_all_femme = (ratio_all_femme / ratio_all) * 100\n",
    "\n",
    "ratio = ratio_all_homme.copy().rename(columns={\"Value\": \"Homme\"})\n",
    "ratio[\"Femme\"] = ratio_all_femme[\"Value\"]\n",
    "ratio = ratio.stack().rename(\"Ratio\").reset_index().rename(columns={\"level_2\": \"Genre\"})\n",
    "ratio"
   ]
  },
  {
   "cell_type": "code",
   "execution_count": 10,
   "metadata": {},
   "outputs": [
    {
     "data": {
      "application/vnd.plotly.v1+json": {
       "config": {
        "plotlyServerURL": "https://plot.ly"
       },
       "data": [
        {
         "alignmentgroup": "True",
         "hovertemplate": "Genre=Homme<br>Pays et territoires insulaires du Pacifique=Kiribati<br>Niveau d'éducation=%{x}<br>Ratio=%{y}<extra></extra>",
         "legendgroup": "Homme",
         "marker": {
          "color": "#636efa",
          "pattern": {
           "shape": ""
          }
         },
         "name": "Homme",
         "offsetgroup": "Homme",
         "orientation": "v",
         "showlegend": true,
         "textposition": "auto",
         "type": "bar",
         "x": [
          "Petite enfance",
          "Primaire",
          "Secondaire inf.",
          "Secondaire sup.",
          "Post-sec. non sup.",
          "Tertiaire",
          "Non indiqué",
          "Total"
         ],
         "xaxis": "x7",
         "y": [
          45.45454545454545,
          48.36166924265842,
          49.043715846994544,
          44.0297790585975,
          46.279946139873665,
          42.158038436519554,
          48.35680751173709,
          46.756503836795815
         ],
         "yaxis": "y7"
        },
        {
         "alignmentgroup": "True",
         "hovertemplate": "Genre=Homme<br>Pays et territoires insulaires du Pacifique=Marshall Islands<br>Niveau d'éducation=%{x}<br>Ratio=%{y}<extra></extra>",
         "legendgroup": "Homme",
         "marker": {
          "color": "#636efa",
          "pattern": {
           "shape": ""
          }
         },
         "name": "Homme",
         "offsetgroup": "Homme",
         "orientation": "v",
         "showlegend": false,
         "textposition": "auto",
         "type": "bar",
         "x": [
          "Petite enfance",
          "Primaire",
          "Secondaire inf.",
          "Secondaire sup.",
          "Tertiaire",
          "Non indiqué",
          "Total"
         ],
         "xaxis": "x6",
         "y": [
          57.547937624116926,
          49.5644199908299,
          45.98224994003359,
          50.741839762611285,
          51.22448979591837,
          60.09844134536506,
          49.85478547854785
         ],
         "yaxis": "y6"
        },
        {
         "alignmentgroup": "True",
         "hovertemplate": "Genre=Homme<br>Pays et territoires insulaires du Pacifique=Nauru<br>Niveau d'éducation=%{x}<br>Ratio=%{y}<extra></extra>",
         "legendgroup": "Homme",
         "marker": {
          "color": "#636efa",
          "pattern": {
           "shape": ""
          }
         },
         "name": "Homme",
         "offsetgroup": "Homme",
         "orientation": "v",
         "showlegend": false,
         "textposition": "auto",
         "type": "bar",
         "x": [
          "Petite enfance",
          "Primaire",
          "Secondaire inf.",
          "Secondaire sup.",
          "Post-sec. non sup.",
          "Tertiaire",
          "Non indiqué",
          "Total"
         ],
         "xaxis": "x5",
         "y": [
          57.535501603298215,
          51.908396946564885,
          57.094569218057536,
          46.77255829672187,
          46.774193548387096,
          44.65408805031446,
          37.05521472392638,
          49.46900946128596
         ],
         "yaxis": "y5"
        },
        {
         "alignmentgroup": "True",
         "hovertemplate": "Genre=Homme<br>Pays et territoires insulaires du Pacifique=Palau<br>Niveau d'éducation=%{x}<br>Ratio=%{y}<extra></extra>",
         "legendgroup": "Homme",
         "marker": {
          "color": "#636efa",
          "pattern": {
           "shape": ""
          }
         },
         "name": "Homme",
         "offsetgroup": "Homme",
         "orientation": "v",
         "showlegend": false,
         "textposition": "auto",
         "type": "bar",
         "x": [
          "Petite enfance",
          "Primaire",
          "Secondaire inf.",
          "Secondaire sup.",
          "Post-sec. non sup.",
          "Tertiaire",
          "Total"
         ],
         "xaxis": "x4",
         "y": [
          66.90368455074338,
          64.38162732455906,
          65.95129076659457,
          57.23233794610342,
          65.86020932364163,
          45.10693877551021,
          54.68889792598617
         ],
         "yaxis": "y4"
        },
        {
         "alignmentgroup": "True",
         "hovertemplate": "Genre=Homme<br>Pays et territoires insulaires du Pacifique=Tonga<br>Niveau d'éducation=%{x}<br>Ratio=%{y}<extra></extra>",
         "legendgroup": "Homme",
         "marker": {
          "color": "#636efa",
          "pattern": {
           "shape": ""
          }
         },
         "name": "Homme",
         "offsetgroup": "Homme",
         "orientation": "v",
         "showlegend": false,
         "textposition": "auto",
         "type": "bar",
         "x": [
          "Petite enfance",
          "Primaire",
          "Secondaire inf.",
          "Secondaire sup.",
          "Tertiaire",
          "Non indiqué",
          "Total"
         ],
         "xaxis": "x3",
         "y": [
          47.53385582541749,
          45.787710614469276,
          49.68224299065421,
          42.87552267610164,
          45.573476702508955,
          47.58190327613104,
          45.611728354480306
         ],
         "yaxis": "y3"
        },
        {
         "alignmentgroup": "True",
         "hovertemplate": "Genre=Homme<br>Pays et territoires insulaires du Pacifique=Tuvalu<br>Niveau d'éducation=%{x}<br>Ratio=%{y}<extra></extra>",
         "legendgroup": "Homme",
         "marker": {
          "color": "#636efa",
          "pattern": {
           "shape": ""
          }
         },
         "name": "Homme",
         "offsetgroup": "Homme",
         "orientation": "v",
         "showlegend": false,
         "textposition": "auto",
         "type": "bar",
         "x": [
          "Petite enfance",
          "Primaire",
          "Secondaire inf.",
          "Secondaire sup.",
          "Post-sec. non sup.",
          "Tertiaire",
          "Non indiqué",
          "Total"
         ],
         "xaxis": "x2",
         "y": [
          48.50245111804681,
          42,
          53.174965737779814,
          45.67396955068696,
          73.71252882398154,
          46.24703713457994,
          45.94470106728782,
          49.64380215754122
         ],
         "yaxis": "y2"
        },
        {
         "alignmentgroup": "True",
         "hovertemplate": "Genre=Homme<br>Pays et territoires insulaires du Pacifique=Vanuatu<br>Niveau d'éducation=%{x}<br>Ratio=%{y}<extra></extra>",
         "legendgroup": "Homme",
         "marker": {
          "color": "#636efa",
          "pattern": {
           "shape": ""
          }
         },
         "name": "Homme",
         "offsetgroup": "Homme",
         "orientation": "v",
         "showlegend": false,
         "textposition": "auto",
         "type": "bar",
         "x": [
          "Petite enfance",
          "Primaire",
          "Secondaire inf.",
          "Secondaire sup.",
          "Tertiaire",
          "Non indiqué",
          "Total"
         ],
         "xaxis": "x",
         "y": [
          44.53004718152471,
          49.46354388145628,
          48.545805517574195,
          50.91988891907392,
          59.12896901738763,
          56.79156908665105,
          49.18762452319842
         ],
         "yaxis": "y"
        },
        {
         "alignmentgroup": "True",
         "hovertemplate": "Genre=Femme<br>Pays et territoires insulaires du Pacifique=Kiribati<br>Niveau d'éducation=%{x}<br>Ratio=%{y}<extra></extra>",
         "legendgroup": "Femme",
         "marker": {
          "color": "#EF553B",
          "pattern": {
           "shape": ""
          }
         },
         "name": "Femme",
         "offsetgroup": "Femme",
         "orientation": "v",
         "showlegend": true,
         "textposition": "auto",
         "type": "bar",
         "x": [
          "Petite enfance",
          "Primaire",
          "Secondaire inf.",
          "Secondaire sup.",
          "Post-sec. non sup.",
          "Tertiaire",
          "Non indiqué",
          "Total"
         ],
         "xaxis": "x7",
         "y": [
          54.54545454545454,
          51.63833075734158,
          50.95628415300547,
          55.970220941402495,
          53.720053860126335,
          57.84196156348044,
          51.64319248826291,
          53.2434961632042
         ],
         "yaxis": "y7"
        },
        {
         "alignmentgroup": "True",
         "hovertemplate": "Genre=Femme<br>Pays et territoires insulaires du Pacifique=Marshall Islands<br>Niveau d'éducation=%{x}<br>Ratio=%{y}<extra></extra>",
         "legendgroup": "Femme",
         "marker": {
          "color": "#EF553B",
          "pattern": {
           "shape": ""
          }
         },
         "name": "Femme",
         "offsetgroup": "Femme",
         "orientation": "v",
         "showlegend": false,
         "textposition": "auto",
         "type": "bar",
         "x": [
          "Petite enfance",
          "Primaire",
          "Secondaire inf.",
          "Secondaire sup.",
          "Tertiaire",
          "Non indiqué",
          "Total"
         ],
         "xaxis": "x6",
         "y": [
          42.45206237588306,
          50.43558000917011,
          54.01775005996642,
          49.25816023738873,
          48.775510204081634,
          39.90155865463495,
          50.145214521452154
         ],
         "yaxis": "y6"
        },
        {
         "alignmentgroup": "True",
         "hovertemplate": "Genre=Femme<br>Pays et territoires insulaires du Pacifique=Nauru<br>Niveau d'éducation=%{x}<br>Ratio=%{y}<extra></extra>",
         "legendgroup": "Femme",
         "marker": {
          "color": "#EF553B",
          "pattern": {
           "shape": ""
          }
         },
         "name": "Femme",
         "offsetgroup": "Femme",
         "orientation": "v",
         "showlegend": false,
         "textposition": "auto",
         "type": "bar",
         "x": [
          "Petite enfance",
          "Primaire",
          "Secondaire inf.",
          "Secondaire sup.",
          "Post-sec. non sup.",
          "Tertiaire",
          "Non indiqué",
          "Total"
         ],
         "xaxis": "x5",
         "y": [
          42.464498396701785,
          48.09160305343511,
          42.905430781942464,
          53.22744170327813,
          53.2258064516129,
          55.34591194968554,
          62.944785276073624,
          50.530990538714036
         ],
         "yaxis": "y5"
        },
        {
         "alignmentgroup": "True",
         "hovertemplate": "Genre=Femme<br>Pays et territoires insulaires du Pacifique=Palau<br>Niveau d'éducation=%{x}<br>Ratio=%{y}<extra></extra>",
         "legendgroup": "Femme",
         "marker": {
          "color": "#EF553B",
          "pattern": {
           "shape": ""
          }
         },
         "name": "Femme",
         "offsetgroup": "Femme",
         "orientation": "v",
         "showlegend": false,
         "textposition": "auto",
         "type": "bar",
         "x": [
          "Petite enfance",
          "Primaire",
          "Secondaire inf.",
          "Secondaire sup.",
          "Post-sec. non sup.",
          "Tertiaire",
          "Total"
         ],
         "xaxis": "x4",
         "y": [
          33.09631544925663,
          35.61837267544093,
          34.04870923340543,
          42.76766205389658,
          34.13979067635836,
          54.89306122448979,
          45.311102074013824
         ],
         "yaxis": "y4"
        },
        {
         "alignmentgroup": "True",
         "hovertemplate": "Genre=Femme<br>Pays et territoires insulaires du Pacifique=Tonga<br>Niveau d'éducation=%{x}<br>Ratio=%{y}<extra></extra>",
         "legendgroup": "Femme",
         "marker": {
          "color": "#EF553B",
          "pattern": {
           "shape": ""
          }
         },
         "name": "Femme",
         "offsetgroup": "Femme",
         "orientation": "v",
         "showlegend": false,
         "textposition": "auto",
         "type": "bar",
         "x": [
          "Petite enfance",
          "Primaire",
          "Secondaire inf.",
          "Secondaire sup.",
          "Tertiaire",
          "Non indiqué",
          "Total"
         ],
         "xaxis": "x3",
         "y": [
          52.46614417458252,
          54.21228938553073,
          50.3177570093458,
          57.12447732389836,
          54.42652329749104,
          52.418096723868956,
          54.388271645519694
         ],
         "yaxis": "y3"
        },
        {
         "alignmentgroup": "True",
         "hovertemplate": "Genre=Femme<br>Pays et territoires insulaires du Pacifique=Tuvalu<br>Niveau d'éducation=%{x}<br>Ratio=%{y}<extra></extra>",
         "legendgroup": "Femme",
         "marker": {
          "color": "#EF553B",
          "pattern": {
           "shape": ""
          }
         },
         "name": "Femme",
         "offsetgroup": "Femme",
         "orientation": "v",
         "showlegend": false,
         "textposition": "auto",
         "type": "bar",
         "x": [
          "Petite enfance",
          "Primaire",
          "Secondaire inf.",
          "Secondaire sup.",
          "Post-sec. non sup.",
          "Tertiaire",
          "Non indiqué",
          "Total"
         ],
         "xaxis": "x2",
         "y": [
          51.49754888195319,
          57.99999999999999,
          46.82503426222019,
          54.32603044931304,
          26.287471176018446,
          53.75296286542007,
          54.05529893271217,
          50.35619784245878
         ],
         "yaxis": "y2"
        },
        {
         "alignmentgroup": "True",
         "hovertemplate": "Genre=Femme<br>Pays et territoires insulaires du Pacifique=Vanuatu<br>Niveau d'éducation=%{x}<br>Ratio=%{y}<extra></extra>",
         "legendgroup": "Femme",
         "marker": {
          "color": "#EF553B",
          "pattern": {
           "shape": ""
          }
         },
         "name": "Femme",
         "offsetgroup": "Femme",
         "orientation": "v",
         "showlegend": false,
         "textposition": "auto",
         "type": "bar",
         "x": [
          "Petite enfance",
          "Primaire",
          "Secondaire inf.",
          "Secondaire sup.",
          "Tertiaire",
          "Non indiqué",
          "Total"
         ],
         "xaxis": "x",
         "y": [
          55.469952818475285,
          50.53645611854372,
          51.4541944824258,
          49.08011108092607,
          40.87103098261235,
          43.20843091334894,
          50.81237547680158
         ],
         "yaxis": "y"
        }
       ],
       "layout": {
        "annotations": [
         {
          "font": {},
          "showarrow": false,
          "text": "Vanuatu",
          "textangle": 90,
          "x": 0.98,
          "xanchor": "left",
          "xref": "paper",
          "y": 0.05857142857142857,
          "yanchor": "middle",
          "yref": "paper"
         },
         {
          "font": {},
          "showarrow": false,
          "text": "Tuvalu",
          "textangle": 90,
          "x": 0.98,
          "xanchor": "left",
          "xref": "paper",
          "y": 0.2057142857142857,
          "yanchor": "middle",
          "yref": "paper"
         },
         {
          "font": {},
          "showarrow": false,
          "text": "Tonga",
          "textangle": 90,
          "x": 0.98,
          "xanchor": "left",
          "xref": "paper",
          "y": 0.35285714285714287,
          "yanchor": "middle",
          "yref": "paper"
         },
         {
          "font": {},
          "showarrow": false,
          "text": "Palau",
          "textangle": 90,
          "x": 0.98,
          "xanchor": "left",
          "xref": "paper",
          "y": 0.49999999999999994,
          "yanchor": "middle",
          "yref": "paper"
         },
         {
          "font": {},
          "showarrow": false,
          "text": "Nauru",
          "textangle": 90,
          "x": 0.98,
          "xanchor": "left",
          "xref": "paper",
          "y": 0.647142857142857,
          "yanchor": "middle",
          "yref": "paper"
         },
         {
          "font": {},
          "showarrow": false,
          "text": "Marshall Islands",
          "textangle": 90,
          "x": 0.98,
          "xanchor": "left",
          "xref": "paper",
          "y": 0.7942857142857143,
          "yanchor": "middle",
          "yref": "paper"
         },
         {
          "font": {},
          "showarrow": false,
          "text": "Kiribati",
          "textangle": 90,
          "x": 0.98,
          "xanchor": "left",
          "xref": "paper",
          "y": 0.9414285714285713,
          "yanchor": "middle",
          "yref": "paper"
         }
        ],
        "barmode": "stack",
        "height": 1400,
        "legend": {
         "title": {
          "text": "Genre"
         },
         "tracegroupgap": 0
        },
        "template": {
         "data": {
          "bar": [
           {
            "error_x": {
             "color": "#2a3f5f"
            },
            "error_y": {
             "color": "#2a3f5f"
            },
            "marker": {
             "line": {
              "color": "#E5ECF6",
              "width": 0.5
             },
             "pattern": {
              "fillmode": "overlay",
              "size": 10,
              "solidity": 0.2
             }
            },
            "type": "bar"
           }
          ],
          "barpolar": [
           {
            "marker": {
             "line": {
              "color": "#E5ECF6",
              "width": 0.5
             },
             "pattern": {
              "fillmode": "overlay",
              "size": 10,
              "solidity": 0.2
             }
            },
            "type": "barpolar"
           }
          ],
          "carpet": [
           {
            "aaxis": {
             "endlinecolor": "#2a3f5f",
             "gridcolor": "white",
             "linecolor": "white",
             "minorgridcolor": "white",
             "startlinecolor": "#2a3f5f"
            },
            "baxis": {
             "endlinecolor": "#2a3f5f",
             "gridcolor": "white",
             "linecolor": "white",
             "minorgridcolor": "white",
             "startlinecolor": "#2a3f5f"
            },
            "type": "carpet"
           }
          ],
          "choropleth": [
           {
            "colorbar": {
             "outlinewidth": 0,
             "ticks": ""
            },
            "type": "choropleth"
           }
          ],
          "contour": [
           {
            "colorbar": {
             "outlinewidth": 0,
             "ticks": ""
            },
            "colorscale": [
             [
              0,
              "#0d0887"
             ],
             [
              0.1111111111111111,
              "#46039f"
             ],
             [
              0.2222222222222222,
              "#7201a8"
             ],
             [
              0.3333333333333333,
              "#9c179e"
             ],
             [
              0.4444444444444444,
              "#bd3786"
             ],
             [
              0.5555555555555556,
              "#d8576b"
             ],
             [
              0.6666666666666666,
              "#ed7953"
             ],
             [
              0.7777777777777778,
              "#fb9f3a"
             ],
             [
              0.8888888888888888,
              "#fdca26"
             ],
             [
              1,
              "#f0f921"
             ]
            ],
            "type": "contour"
           }
          ],
          "contourcarpet": [
           {
            "colorbar": {
             "outlinewidth": 0,
             "ticks": ""
            },
            "type": "contourcarpet"
           }
          ],
          "heatmap": [
           {
            "colorbar": {
             "outlinewidth": 0,
             "ticks": ""
            },
            "colorscale": [
             [
              0,
              "#0d0887"
             ],
             [
              0.1111111111111111,
              "#46039f"
             ],
             [
              0.2222222222222222,
              "#7201a8"
             ],
             [
              0.3333333333333333,
              "#9c179e"
             ],
             [
              0.4444444444444444,
              "#bd3786"
             ],
             [
              0.5555555555555556,
              "#d8576b"
             ],
             [
              0.6666666666666666,
              "#ed7953"
             ],
             [
              0.7777777777777778,
              "#fb9f3a"
             ],
             [
              0.8888888888888888,
              "#fdca26"
             ],
             [
              1,
              "#f0f921"
             ]
            ],
            "type": "heatmap"
           }
          ],
          "heatmapgl": [
           {
            "colorbar": {
             "outlinewidth": 0,
             "ticks": ""
            },
            "colorscale": [
             [
              0,
              "#0d0887"
             ],
             [
              0.1111111111111111,
              "#46039f"
             ],
             [
              0.2222222222222222,
              "#7201a8"
             ],
             [
              0.3333333333333333,
              "#9c179e"
             ],
             [
              0.4444444444444444,
              "#bd3786"
             ],
             [
              0.5555555555555556,
              "#d8576b"
             ],
             [
              0.6666666666666666,
              "#ed7953"
             ],
             [
              0.7777777777777778,
              "#fb9f3a"
             ],
             [
              0.8888888888888888,
              "#fdca26"
             ],
             [
              1,
              "#f0f921"
             ]
            ],
            "type": "heatmapgl"
           }
          ],
          "histogram": [
           {
            "marker": {
             "pattern": {
              "fillmode": "overlay",
              "size": 10,
              "solidity": 0.2
             }
            },
            "type": "histogram"
           }
          ],
          "histogram2d": [
           {
            "colorbar": {
             "outlinewidth": 0,
             "ticks": ""
            },
            "colorscale": [
             [
              0,
              "#0d0887"
             ],
             [
              0.1111111111111111,
              "#46039f"
             ],
             [
              0.2222222222222222,
              "#7201a8"
             ],
             [
              0.3333333333333333,
              "#9c179e"
             ],
             [
              0.4444444444444444,
              "#bd3786"
             ],
             [
              0.5555555555555556,
              "#d8576b"
             ],
             [
              0.6666666666666666,
              "#ed7953"
             ],
             [
              0.7777777777777778,
              "#fb9f3a"
             ],
             [
              0.8888888888888888,
              "#fdca26"
             ],
             [
              1,
              "#f0f921"
             ]
            ],
            "type": "histogram2d"
           }
          ],
          "histogram2dcontour": [
           {
            "colorbar": {
             "outlinewidth": 0,
             "ticks": ""
            },
            "colorscale": [
             [
              0,
              "#0d0887"
             ],
             [
              0.1111111111111111,
              "#46039f"
             ],
             [
              0.2222222222222222,
              "#7201a8"
             ],
             [
              0.3333333333333333,
              "#9c179e"
             ],
             [
              0.4444444444444444,
              "#bd3786"
             ],
             [
              0.5555555555555556,
              "#d8576b"
             ],
             [
              0.6666666666666666,
              "#ed7953"
             ],
             [
              0.7777777777777778,
              "#fb9f3a"
             ],
             [
              0.8888888888888888,
              "#fdca26"
             ],
             [
              1,
              "#f0f921"
             ]
            ],
            "type": "histogram2dcontour"
           }
          ],
          "mesh3d": [
           {
            "colorbar": {
             "outlinewidth": 0,
             "ticks": ""
            },
            "type": "mesh3d"
           }
          ],
          "parcoords": [
           {
            "line": {
             "colorbar": {
              "outlinewidth": 0,
              "ticks": ""
             }
            },
            "type": "parcoords"
           }
          ],
          "pie": [
           {
            "automargin": true,
            "type": "pie"
           }
          ],
          "scatter": [
           {
            "fillpattern": {
             "fillmode": "overlay",
             "size": 10,
             "solidity": 0.2
            },
            "type": "scatter"
           }
          ],
          "scatter3d": [
           {
            "line": {
             "colorbar": {
              "outlinewidth": 0,
              "ticks": ""
             }
            },
            "marker": {
             "colorbar": {
              "outlinewidth": 0,
              "ticks": ""
             }
            },
            "type": "scatter3d"
           }
          ],
          "scattercarpet": [
           {
            "marker": {
             "colorbar": {
              "outlinewidth": 0,
              "ticks": ""
             }
            },
            "type": "scattercarpet"
           }
          ],
          "scattergeo": [
           {
            "marker": {
             "colorbar": {
              "outlinewidth": 0,
              "ticks": ""
             }
            },
            "type": "scattergeo"
           }
          ],
          "scattergl": [
           {
            "marker": {
             "colorbar": {
              "outlinewidth": 0,
              "ticks": ""
             }
            },
            "type": "scattergl"
           }
          ],
          "scattermapbox": [
           {
            "marker": {
             "colorbar": {
              "outlinewidth": 0,
              "ticks": ""
             }
            },
            "type": "scattermapbox"
           }
          ],
          "scatterpolar": [
           {
            "marker": {
             "colorbar": {
              "outlinewidth": 0,
              "ticks": ""
             }
            },
            "type": "scatterpolar"
           }
          ],
          "scatterpolargl": [
           {
            "marker": {
             "colorbar": {
              "outlinewidth": 0,
              "ticks": ""
             }
            },
            "type": "scatterpolargl"
           }
          ],
          "scatterternary": [
           {
            "marker": {
             "colorbar": {
              "outlinewidth": 0,
              "ticks": ""
             }
            },
            "type": "scatterternary"
           }
          ],
          "surface": [
           {
            "colorbar": {
             "outlinewidth": 0,
             "ticks": ""
            },
            "colorscale": [
             [
              0,
              "#0d0887"
             ],
             [
              0.1111111111111111,
              "#46039f"
             ],
             [
              0.2222222222222222,
              "#7201a8"
             ],
             [
              0.3333333333333333,
              "#9c179e"
             ],
             [
              0.4444444444444444,
              "#bd3786"
             ],
             [
              0.5555555555555556,
              "#d8576b"
             ],
             [
              0.6666666666666666,
              "#ed7953"
             ],
             [
              0.7777777777777778,
              "#fb9f3a"
             ],
             [
              0.8888888888888888,
              "#fdca26"
             ],
             [
              1,
              "#f0f921"
             ]
            ],
            "type": "surface"
           }
          ],
          "table": [
           {
            "cells": {
             "fill": {
              "color": "#EBF0F8"
             },
             "line": {
              "color": "white"
             }
            },
            "header": {
             "fill": {
              "color": "#C8D4E3"
             },
             "line": {
              "color": "white"
             }
            },
            "type": "table"
           }
          ]
         },
         "layout": {
          "annotationdefaults": {
           "arrowcolor": "#2a3f5f",
           "arrowhead": 0,
           "arrowwidth": 1
          },
          "autotypenumbers": "strict",
          "coloraxis": {
           "colorbar": {
            "outlinewidth": 0,
            "ticks": ""
           }
          },
          "colorscale": {
           "diverging": [
            [
             0,
             "#8e0152"
            ],
            [
             0.1,
             "#c51b7d"
            ],
            [
             0.2,
             "#de77ae"
            ],
            [
             0.3,
             "#f1b6da"
            ],
            [
             0.4,
             "#fde0ef"
            ],
            [
             0.5,
             "#f7f7f7"
            ],
            [
             0.6,
             "#e6f5d0"
            ],
            [
             0.7,
             "#b8e186"
            ],
            [
             0.8,
             "#7fbc41"
            ],
            [
             0.9,
             "#4d9221"
            ],
            [
             1,
             "#276419"
            ]
           ],
           "sequential": [
            [
             0,
             "#0d0887"
            ],
            [
             0.1111111111111111,
             "#46039f"
            ],
            [
             0.2222222222222222,
             "#7201a8"
            ],
            [
             0.3333333333333333,
             "#9c179e"
            ],
            [
             0.4444444444444444,
             "#bd3786"
            ],
            [
             0.5555555555555556,
             "#d8576b"
            ],
            [
             0.6666666666666666,
             "#ed7953"
            ],
            [
             0.7777777777777778,
             "#fb9f3a"
            ],
            [
             0.8888888888888888,
             "#fdca26"
            ],
            [
             1,
             "#f0f921"
            ]
           ],
           "sequentialminus": [
            [
             0,
             "#0d0887"
            ],
            [
             0.1111111111111111,
             "#46039f"
            ],
            [
             0.2222222222222222,
             "#7201a8"
            ],
            [
             0.3333333333333333,
             "#9c179e"
            ],
            [
             0.4444444444444444,
             "#bd3786"
            ],
            [
             0.5555555555555556,
             "#d8576b"
            ],
            [
             0.6666666666666666,
             "#ed7953"
            ],
            [
             0.7777777777777778,
             "#fb9f3a"
            ],
            [
             0.8888888888888888,
             "#fdca26"
            ],
            [
             1,
             "#f0f921"
            ]
           ]
          },
          "colorway": [
           "#636efa",
           "#EF553B",
           "#00cc96",
           "#ab63fa",
           "#FFA15A",
           "#19d3f3",
           "#FF6692",
           "#B6E880",
           "#FF97FF",
           "#FECB52"
          ],
          "font": {
           "color": "#2a3f5f"
          },
          "geo": {
           "bgcolor": "white",
           "lakecolor": "white",
           "landcolor": "#E5ECF6",
           "showlakes": true,
           "showland": true,
           "subunitcolor": "white"
          },
          "hoverlabel": {
           "align": "left"
          },
          "hovermode": "closest",
          "mapbox": {
           "style": "light"
          },
          "paper_bgcolor": "white",
          "plot_bgcolor": "#E5ECF6",
          "polar": {
           "angularaxis": {
            "gridcolor": "white",
            "linecolor": "white",
            "ticks": ""
           },
           "bgcolor": "#E5ECF6",
           "radialaxis": {
            "gridcolor": "white",
            "linecolor": "white",
            "ticks": ""
           }
          },
          "scene": {
           "xaxis": {
            "backgroundcolor": "#E5ECF6",
            "gridcolor": "white",
            "gridwidth": 2,
            "linecolor": "white",
            "showbackground": true,
            "ticks": "",
            "zerolinecolor": "white"
           },
           "yaxis": {
            "backgroundcolor": "#E5ECF6",
            "gridcolor": "white",
            "gridwidth": 2,
            "linecolor": "white",
            "showbackground": true,
            "ticks": "",
            "zerolinecolor": "white"
           },
           "zaxis": {
            "backgroundcolor": "#E5ECF6",
            "gridcolor": "white",
            "gridwidth": 2,
            "linecolor": "white",
            "showbackground": true,
            "ticks": "",
            "zerolinecolor": "white"
           }
          },
          "shapedefaults": {
           "line": {
            "color": "#2a3f5f"
           }
          },
          "ternary": {
           "aaxis": {
            "gridcolor": "white",
            "linecolor": "white",
            "ticks": ""
           },
           "baxis": {
            "gridcolor": "white",
            "linecolor": "white",
            "ticks": ""
           },
           "bgcolor": "#E5ECF6",
           "caxis": {
            "gridcolor": "white",
            "linecolor": "white",
            "ticks": ""
           }
          },
          "title": {
           "x": 0.05
          },
          "xaxis": {
           "automargin": true,
           "gridcolor": "white",
           "linecolor": "white",
           "ticks": "",
           "title": {
            "standoff": 15
           },
           "zerolinecolor": "white",
           "zerolinewidth": 2
          },
          "yaxis": {
           "automargin": true,
           "gridcolor": "white",
           "linecolor": "white",
           "ticks": "",
           "title": {
            "standoff": 15
           },
           "zerolinecolor": "white",
           "zerolinewidth": 2
          }
         }
        },
        "title": {
         "text": "Répartition des niveaux d'éducation par genre et par territoire"
        },
        "width": 800,
        "xaxis": {
         "anchor": "y",
         "domain": [
          0,
          0.98
         ],
         "title": {
          "text": "Niveau d'éducation"
         }
        },
        "xaxis2": {
         "anchor": "y2",
         "domain": [
          0,
          0.98
         ],
         "matches": "x",
         "showticklabels": false
        },
        "xaxis3": {
         "anchor": "y3",
         "domain": [
          0,
          0.98
         ],
         "matches": "x",
         "showticklabels": false
        },
        "xaxis4": {
         "anchor": "y4",
         "domain": [
          0,
          0.98
         ],
         "matches": "x",
         "showticklabels": false
        },
        "xaxis5": {
         "anchor": "y5",
         "domain": [
          0,
          0.98
         ],
         "matches": "x",
         "showticklabels": false
        },
        "xaxis6": {
         "anchor": "y6",
         "domain": [
          0,
          0.98
         ],
         "matches": "x",
         "showticklabels": false
        },
        "xaxis7": {
         "anchor": "y7",
         "domain": [
          0,
          0.98
         ],
         "matches": "x",
         "showticklabels": false
        },
        "yaxis": {
         "anchor": "x",
         "domain": [
          0,
          0.11714285714285715
         ],
         "range": [
          0,
          100
         ],
         "title": {
          "text": "Ratio"
         }
        },
        "yaxis2": {
         "anchor": "x2",
         "domain": [
          0.14714285714285713,
          0.2642857142857143
         ],
         "matches": "y",
         "range": [
          0,
          100
         ],
         "title": {
          "text": "Ratio"
         }
        },
        "yaxis3": {
         "anchor": "x3",
         "domain": [
          0.29428571428571426,
          0.4114285714285714
         ],
         "matches": "y",
         "range": [
          0,
          100
         ],
         "title": {
          "text": "Ratio"
         }
        },
        "yaxis4": {
         "anchor": "x4",
         "domain": [
          0.4414285714285714,
          0.5585714285714285
         ],
         "matches": "y",
         "range": [
          0,
          100
         ],
         "title": {
          "text": "Ratio"
         }
        },
        "yaxis5": {
         "anchor": "x5",
         "domain": [
          0.5885714285714285,
          0.7057142857142856
         ],
         "matches": "y",
         "range": [
          0,
          100
         ],
         "title": {
          "text": "Ratio"
         }
        },
        "yaxis6": {
         "anchor": "x6",
         "domain": [
          0.7357142857142858,
          0.8528571428571429
         ],
         "matches": "y",
         "range": [
          0,
          100
         ],
         "title": {
          "text": "Ratio"
         }
        },
        "yaxis7": {
         "anchor": "x7",
         "domain": [
          0.8828571428571428,
          0.9999999999999999
         ],
         "matches": "y",
         "range": [
          0,
          100
         ],
         "title": {
          "text": "Ratio"
         }
        }
       }
      }
     },
     "metadata": {},
     "output_type": "display_data"
    }
   ],
   "source": [
    "fig = px.bar(\n",
    "    ratio,\n",
    "    x=\"Niveau d'éducation\",\n",
    "    y=\"Ratio\",\n",
    "    color=\"Genre\",\n",
    "    facet_row=\"Pays et territoires insulaires du Pacifique\",\n",
    "    barmode=\"stack\",\n",
    "    title=\"Répartition des niveaux d'éducation par genre et par territoire\",\n",
    "    labels={\"Value\": \"Total population\"},\n",
    "    range_y=[0, 100],\n",
    "    height=200 * len(all_data[\"Pays et territoires insulaires du Pacifique\"].unique()),\n",
    "    width=800,\n",
    ")\n",
    "fig.for_each_annotation(lambda a: a.update(text=a.text.split(\"=\")[-1]))\n",
    "fig.show()"
   ]
  },
  {
   "cell_type": "code",
   "execution_count": 11,
   "metadata": {},
   "outputs": [],
   "source": [
    "ratio.to_parquet(\"../../data/3_product/education_attainment.parquet\", index=False)"
   ]
  }
 ],
 "metadata": {
  "kernelspec": {
   "display_name": ".venv",
   "language": "python",
   "name": "python3"
  },
  "language_info": {
   "codemirror_mode": {
    "name": "ipython",
    "version": 3
   },
   "file_extension": ".py",
   "mimetype": "text/x-python",
   "name": "python",
   "nbconvert_exporter": "python",
   "pygments_lexer": "ipython3",
   "version": "3.12.3"
  }
 },
 "nbformat": 4,
 "nbformat_minor": 2
}
